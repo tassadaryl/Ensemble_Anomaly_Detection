{
 "cells": [
  {
   "cell_type": "code",
   "execution_count": 48,
   "metadata": {},
   "outputs": [],
   "source": [
    "import pickle\n",
    "import numpy as np\n",
    "import random\n",
    "import pandas as pd\n",
    "from pprint import pprint\n",
    "from pyod.models.iforest import IForest\n",
    "from pyod.models.lof import LOF\n",
    "from pyod.models.abod import ABOD\n",
    "from pyod.models.knn import KNN\n",
    "from pyod.models.lscp import LSCP\n",
    "from pyod.models.abod import ABOD\n",
    "from tqdm.notebook import tqdm"
   ]
  },
  {
   "cell_type": "code",
   "execution_count": 106,
   "metadata": {},
   "outputs": [],
   "source": [
    "class EnsembleAD():\n",
    "    def __init__(self, name, threshold=0.5):\n",
    "        print(\"Initializing...\")\n",
    "        \n",
    "        vec_path = './data/doc_vec/title_' + name + '_vec.np'\n",
    "        csv_path = './data/company/' + name + '.csv'\n",
    "        title_path = './data/company/title_' + name + '.txt'\n",
    "        \n",
    "        # load titles' vec\n",
    "        with open(vec_path, 'rb') as f:\n",
    "            self.X = pickle.load(f)\n",
    "        \n",
    "        # number of samples\n",
    "        self.N = len(self.X)\n",
    "        # dimension of feature\n",
    "        self.D = len(self.X[0])\n",
    "        #Anomaly prob threshold\n",
    "        self.threshold = threshold\n",
    "            \n",
    "        #load csv data\n",
    "        self.df = pd.read_csv(csv_path)\n",
    "        \n",
    "        #load titles\n",
    "        self.titles = []\n",
    "        with open(title_path, \"r\" ) as f:\n",
    "            for line in f:\n",
    "                self.titles.append(line)\n",
    "        \n",
    "        #Getting Anomaly Probabilities\n",
    "        self.Ano_Prob = self.AD_LSCP()[:, 1]\n",
    "        \n",
    "        #Getting Anomaly and Negative-sentiment index\n",
    "        self.neg_idx = self.Get_negetive()\n",
    "\n",
    "        self.Print_Neg_Anomaly()\n",
    "        print(\"Anomaly idx:{}\".format(self.ano_idx))\n",
    "        print(\"Negtive senti:{}\".format(self.neg_idx))\n",
    "                \n",
    "    \n",
    "    def AD_LSCP(self):\n",
    "        print(\"detecting with LSCP...\")\n",
    "        PR_LSCP = []\n",
    "        detector_list = [LOF(), IForest(), KNN()]\n",
    "        local_region_size =  30 if self.N > 30 else self.N // 2\n",
    "        clf_LSCP = LSCP(detector_list, n_bins=3, local_region_size=local_region_size).fit(self.X)\n",
    "        Anomaly_proba = clf_LSCP.predict_proba(self.X)\n",
    "        LSCP_prob = np.array(Anomaly_proba)\n",
    "        \n",
    "        return LSCP_prob\n",
    "    \n",
    "    def Get_negetive(self):\n",
    "        return self.df.index[self.df['sentiment'] == -1].tolist()\n",
    "    \n",
    "    def Print_Neg_Anomaly(self):\n",
    "        self.ano = [(i, val) for i, val in enumerate(self.Ano_Prob) if val > self.threshold]\n",
    "        #descending sort anomaly probablity\n",
    "        self.ano.sort(key=lambda x:-x[1])\n",
    "        self.ano_idx = [i for (i, val) in self.ano]\n",
    "        Neg_Ano_idx = np.intersect1d(self.ano_idx, self.neg_idx)\n",
    "        print(\"Anomaly and Negavitve sentiment:{}\".format(Neg_Ano_idx))\n",
    "        if Neg_Ano_idx.size == 0:\n",
    "            for i in range(min(len(self.ano_idx), 3)):\n",
    "                pprint(self.titles[self.ano_idx[i]])\n",
    "        else:\n",
    "            for idx in Neg_Ano_idx:\n",
    "                pprint(self.titles[idx])\n",
    "        "
   ]
  },
  {
   "cell_type": "code",
   "execution_count": 107,
   "metadata": {},
   "outputs": [
    {
     "name": "stdout",
     "output_type": "stream",
     "text": [
      "Initializing...\n",
      "detecting with LSCP...\n",
      "Anomaly and Negavitve sentiment:[ 49  83 119 229 232]\n",
      "'苹果Q4每股收益及营收超出预期\\n'\n",
      "'JDI连续第11个季度录得净亏损：苹果认栽了\\n'\n",
      "'苹果：自2009年以来公司每年在维修业务上都是亏钱的\\n'\n",
      "'苹果股价盘后一度跳水 跌幅近5%\\n'\n",
      "'苹果多头减持幅度较大\\n'\n",
      "Anomaly idx:[24, 135, 52, 206, 58, 15, 32, 253, 43, 172, 3, 213, 75, 202, 7, 260, 229, 83, 39, 77, 230, 53, 49, 232, 88, 8, 119, 35]\n",
      "Negtive senti:[0, 5, 9, 19, 20, 23, 27, 44, 49, 57, 59, 60, 62, 63, 65, 69, 71, 74, 81, 83, 84, 94, 96, 108, 111, 119, 121, 129, 136, 140, 146, 154, 155, 156, 161, 163, 175, 181, 216, 217, 220, 225, 228, 229, 232, 238, 241, 245, 265, 268]\n"
     ]
    }
   ],
   "source": [
    "apple = EnsembleAD(\"apple\", threshold=0.5)"
   ]
  },
  {
   "cell_type": "code",
   "execution_count": 110,
   "metadata": {},
   "outputs": [
    {
     "name": "stdout",
     "output_type": "stream",
     "text": [
      "Initializing...\n",
      "detecting with LSCP...\n",
      "Anomaly and Negavitve sentiment:[24 25 59 82]\n",
      "'花旗：预计Azure 2020年增速放缓 予微软（MSFT.US）“中性”评级\\n'\n",
      "'微软Azure增速下滑不是重点 智能云业务存在持续扩张空间\\n'\n",
      "'美股科技股表现分化 微软刷新历史新高\\n'\n",
      "'超4400万微软用户在其它平台使用相同密码遭泄露\\n'\n",
      "Anomaly idx:[59, 88, 24, 0, 90, 85, 38, 21, 75, 57, 10, 51, 22, 34, 89, 47, 19, 17, 67, 7, 25, 82, 15, 50, 33]\n",
      "Negtive senti:[12, 16, 18, 24, 25, 30, 42, 44, 45, 53, 55, 58, 59, 72, 74, 76, 77, 78, 82, 92]\n"
     ]
    }
   ],
   "source": [
    "microsoft = EnsembleAD(\"microsoft\", threshold=0.5)"
   ]
  },
  {
   "cell_type": "code",
   "execution_count": 111,
   "metadata": {},
   "outputs": [
    {
     "name": "stdout",
     "output_type": "stream",
     "text": [
      "Initializing...\n",
      "detecting with LSCP...\n",
      "Anomaly and Negavitve sentiment:[3]\n",
      "'【图解季报】獐子岛2019年前三季度净利润-3403万元 同比下降245.53%\\n'\n",
      "Anomaly idx:[3]\n",
      "Negtive senti:[3, 5, 7, 8, 9, 11, 12, 13, 14, 15, 16, 17, 18, 19, 20, 23, 25, 26, 27]\n"
     ]
    },
    {
     "name": "stderr",
     "output_type": "stream",
     "text": [
      "/Users/Lin/opt/anaconda3/envs/pDL/lib/python3.8/site-packages/pyod/models/lscp.py:233: UserWarning: Local region size of 14 is outside recommended range [30, 200]\n",
      "  warnings.warn(\"Local region size of {} is outside \"\n",
      "/Users/Lin/opt/anaconda3/envs/pDL/lib/python3.8/site-packages/pyod/models/lscp.py:233: UserWarning: Local region size of 14 is outside recommended range [30, 200]\n",
      "  warnings.warn(\"Local region size of {} is outside \"\n"
     ]
    }
   ],
   "source": [
    "zzd = EnsembleAD(\"zzd\", threshold=0.5)"
   ]
  },
  {
   "cell_type": "code",
   "execution_count": 112,
   "metadata": {},
   "outputs": [
    {
     "name": "stdout",
     "output_type": "stream",
     "text": [
      "Initializing...\n",
      "detecting with LSCP...\n",
      "Anomaly and Negavitve sentiment:[14 15 30 43]\n",
      "'宝能系减持万科6.49亿元\\n'\n",
      "'华侨城拟转让万科合资公司50%股权及债权 挂牌底价23.3亿元\\n'\n",
      "'【万科A：钜盛华所持4700万股公司A股解除质押】万科A(000002)12月13日晚间公告，12月12日，钜盛华将持有并质押给招商证券的万科4700万股无限售流通A股办理解除质押；此次解押股数占钜盛华所持股份的10.01%，占万科总股本的0.42%。截至目前，钜盛华及其一致行动人前海人寿累计质押股份4.45亿股，占其所持股份的63.78%，占公司总股本的3.94%。（证券时报）\\n'\n",
      "'宝能系减持万科股票5.65亿股 持股比例不足5%\\n'\n",
      "Anomaly idx:[25, 19, 34, 9, 18, 24, 43, 15, 26, 31, 14, 30]\n",
      "Negtive senti:[12, 13, 14, 15, 17, 20, 21, 28, 30, 32, 35, 36, 37, 38, 40, 42, 43]\n"
     ]
    }
   ],
   "source": [
    "vanke = EnsembleAD(\"vanke\", threshold=0.5)"
   ]
  },
  {
   "cell_type": "code",
   "execution_count": 113,
   "metadata": {},
   "outputs": [
    {
     "name": "stdout",
     "output_type": "stream",
     "text": [
      "Initializing...\n",
      "detecting with LSCP...\n",
      "Anomaly and Negavitve sentiment:[ 7 38 56]\n",
      "'10月18日特斯拉板块跌幅达2%\\n'\n",
      "'特斯拉第三季度在美销售额暴跌39% 中国市场大增64%\\n'\n",
      "'11月11日特斯拉板块跌幅达2%\\n'\n",
      "Anomaly idx:[162, 7, 56, 46, 41, 82, 147, 148, 169, 53, 12, 167, 61, 174, 38, 6, 163, 97, 45, 177, 158, 35]\n",
      "Negtive senti:[1, 2, 7, 29, 38, 39, 47, 56, 73, 77, 83, 89, 94, 98, 106, 107, 111, 113, 114, 127, 139, 146, 149, 152, 153, 154, 161, 164, 183]\n"
     ]
    }
   ],
   "source": [
    "tesla = EnsembleAD(\"tesla\", threshold=0.5)"
   ]
  },
  {
   "cell_type": "code",
   "execution_count": 114,
   "metadata": {},
   "outputs": [
    {
     "name": "stdout",
     "output_type": "stream",
     "text": [
      "Initializing...\n",
      "detecting with LSCP...\n",
      "Anomaly and Negavitve sentiment:[]\n",
      "'中金：预期京东（JD.US）3季度业绩超预期 维持其“跑赢行业”评级\\n'\n",
      "'京东2019三季报：净赚1348亿元\\n'\n",
      "'募资超100亿！港股年内第二大IPO来了 曾获京东领投21亿\\n'\n",
      "Anomaly idx:[11, 23, 3, 13, 20, 38, 35]\n",
      "Negtive senti:[7, 18, 25, 33, 34, 36, 37]\n"
     ]
    }
   ],
   "source": [
    "jd = EnsembleAD(\"jd\", threshold=0.5)"
   ]
  },
  {
   "cell_type": "code",
   "execution_count": null,
   "metadata": {},
   "outputs": [],
   "source": []
  }
 ],
 "metadata": {
  "kernelspec": {
   "display_name": "Python [conda env:pDL] *",
   "language": "python",
   "name": "conda-env-pDL-py"
  },
  "language_info": {
   "codemirror_mode": {
    "name": "ipython",
    "version": 3
   },
   "file_extension": ".py",
   "mimetype": "text/x-python",
   "name": "python",
   "nbconvert_exporter": "python",
   "pygments_lexer": "ipython3",
   "version": "3.8.1"
  }
 },
 "nbformat": 4,
 "nbformat_minor": 4
}
