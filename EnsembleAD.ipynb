{
 "cells": [
  {
   "cell_type": "code",
   "execution_count": 48,
   "metadata": {},
   "outputs": [],
   "source": [
    "import pickle\n",
    "import numpy as np\n",
    "import random\n",
    "import pandas as pd\n",
    "from pprint import pprint\n",
    "from pyod.models.iforest import IForest\n",
    "from pyod.models.lof import LOF\n",
    "from pyod.models.abod import ABOD\n",
    "from pyod.models.knn import KNN\n",
    "from pyod.models.lscp import LSCP\n",
    "from pyod.models.abod import ABOD\n",
    "from tqdm.notebook import tqdm"
   ]
  },
  {
   "cell_type": "code",
   "execution_count": 88,
   "metadata": {},
   "outputs": [],
   "source": [
    "class EnsembleAD():\n",
    "    def __init__(self, name, threshold=0.5):\n",
    "        print(\"Initializing...\")\n",
    "        \n",
    "        vec_path = './data/doc_vec/title_' + name + '_vec.np'\n",
    "        csv_path = './data/company/' + name + '.csv'\n",
    "        title_path = './data/company/title_' + name + '.txt'\n",
    "        \n",
    "        # load titles' vec\n",
    "        with open(vec_path, 'rb') as f:\n",
    "            self.X = pickle.load(f)\n",
    "        \n",
    "        # number of samples\n",
    "        self.N = len(self.X)\n",
    "        # dimension of feature\n",
    "        self.D = len(self.X[0])\n",
    "        #Iteration rounds\n",
    "#         self.T = T\n",
    "            \n",
    "        #load csv data\n",
    "        self.df = pd.read_csv(csv_path)\n",
    "        \n",
    "        #load titles\n",
    "        self.titles = []\n",
    "        with open(title_path, \"r\" ) as f:\n",
    "            for line in f:\n",
    "                self.titles.append(line)\n",
    "                \n",
    "#         #Ensemble Anomaly Detection\n",
    "#         self.iforest_prob = self.AD_iforest()\n",
    "#         self.LOF_prob = self.AD_LOF()\n",
    "#         self.KNN_prob = self.AD_KNN()\n",
    "        \n",
    "#         #Adding Anomaly probs together\n",
    "#         self.PROB = self.iforest_prob + self.LOF_prob + self.KNN_prob\n",
    "#         self.PROB = self.PROB[:, 1]\n",
    "        \n",
    "        self.PROB = self.AD_LSCP()[:, 1]\n",
    "        \n",
    "        #Getting Anomaly and Negative-sentiment index\n",
    "        self.ano_idx = [i for i, val in enumerate(self.PROB) if val > threshold]\n",
    "        self.neg_idx = self.Detect_negetive()\n",
    "        print(\"Anomaly idx:{}\".format(self.ano_idx))\n",
    "        print(\"Negtive senti:{}\".format(self.neg_idx))\n",
    "        \n",
    "        self.Print_Neg_Anomaly()\n",
    "                \n",
    "    def Generate_indicies(self):\n",
    "        d = random.randint(self.D//2, self.D-2)\n",
    "        indicies = random.sample(range(0, self.D - 1), d)\n",
    "        return sorted(indicies)\n",
    "    \n",
    "    def Generate_corped_x(self):\n",
    "        indices = self.Generate_indicies()\n",
    "        return self.X[:, indices]\n",
    "    \n",
    "    def AD_iforest(self):\n",
    "        print(\"detecting with iForest...\")\n",
    "        PR_iforest = []\n",
    "        for t in tqdm(range(self.T)):\n",
    "            X_corped = self.Generate_corped_x()\n",
    "            clf_iforest = IForest().fit(X_corped)\n",
    "            Anomaly_proba = clf_iforest.predict_proba(X_corped)\n",
    "            PR_iforest.append(Anomaly_proba)\n",
    "        PR_iforest = np.array(PR_iforest)\n",
    "        iforest_prob = np.mean(PR_iforest, axis=0)\n",
    "        \n",
    "        return iforest_prob\n",
    "    \n",
    "    def AD_LOF(self):\n",
    "        print(\"detecting with LOF...\")\n",
    "        PR_LOF = []\n",
    "        for t in tqdm(range(self.T)):\n",
    "            X_corped = self.Generate_corped_x()\n",
    "            clf_LOF = LOF(n_neighbors=5).fit(X_corped)\n",
    "            Anomaly_proba = clf_LOF.predict_proba(X_corped)\n",
    "            PR_LOF.append(Anomaly_proba)\n",
    "        PR_LOF = np.array(PR_LOF)\n",
    "        LOF_prob = np.mean(PR_LOF, axis=0)\n",
    "        \n",
    "        return LOF_prob\n",
    "    \n",
    "    def AD_KNN(self):\n",
    "        print(\"detecting with KNN...\")\n",
    "        PR_KNN = []\n",
    "        for t in tqdm(range(self.T)):\n",
    "            X_corped = self.Generate_corped_x()\n",
    "            clf_KNN = KNN(contamination=0.1, n_neighbors=5, method='largest').fit(X_corped)\n",
    "            Anomaly_proba = clf_KNN.predict_proba(X_corped)\n",
    "            PR_KNN.append(Anomaly_proba)\n",
    "        PR_KNN = np.array(PR_KNN)\n",
    "        KNN_prob = np.mean(PR_KNN, axis=0)\n",
    "        \n",
    "        return KNN_prob\n",
    "    \n",
    "    def AD_LSCP(self):\n",
    "        print(\"detecting with LSCP...\")\n",
    "        PR_LSCP = []\n",
    "        detector_list = [LOF(), IForest(), KNN()]\n",
    "#         for t in tqdm(range(self.T)):\n",
    "#             X_corped = self.Generate_corped_x()\n",
    "#             clf_LSCP = LSCP(detector_list, n_bins=3).fit(X_corped)\n",
    "#             Anomaly_proba = clf_LSCP.predict_proba(X_corped)\n",
    "#             PR_LSCP.append(Anomaly_proba)\n",
    "#         PR_LSCP = np.array(PR_LSCP)\n",
    "#         LSCP_prob = np.mean(PR_LSCP, axis=0)\n",
    "        local_region_size =  30 if self.N > 30 else self.N // 2\n",
    "        clf_LSCP = LSCP(detector_list, n_bins=3, local_region_size=local_region_size).fit(self.X)\n",
    "        Anomaly_proba = clf_LSCP.predict_proba(self.X)\n",
    "        LSCP_prob = np.array(Anomaly_proba)\n",
    "        \n",
    "        return LSCP_prob\n",
    "    \n",
    "        \n",
    "    \n",
    "    def Detect_negetive(self):\n",
    "        return self.df.index[self.df['sentiment'] == -1].tolist()\n",
    "    \n",
    "    def Print_Neg_Anomaly(self):\n",
    "        Neg_Ano_idx = np.intersect1d(self.ano_idx, self.neg_idx)\n",
    "        print(\"Anomaly and Negavitve sentiment:{}\".format(Neg_Ano_idx))\n",
    "        for idx in Neg_Ano_idx:\n",
    "            pprint(self.titles[idx])\n",
    "        "
   ]
  },
  {
   "cell_type": "code",
   "execution_count": 89,
   "metadata": {},
   "outputs": [
    {
     "name": "stdout",
     "output_type": "stream",
     "text": [
      "Initializing...\n",
      "detecting with LSCP...\n",
      "Anomaly idx:[3, 7, 8, 10, 15, 20, 22, 24, 26, 32, 35, 39, 43, 49, 52, 53, 58, 63, 75, 77, 83, 88, 119, 135, 172, 192, 202, 206, 213, 217, 218, 229, 230, 232, 242, 244, 248, 253, 260]\n",
      "Negtive senti:[0, 5, 9, 19, 20, 23, 27, 44, 49, 57, 59, 60, 62, 63, 65, 69, 71, 74, 81, 83, 84, 94, 96, 108, 111, 119, 121, 129, 136, 140, 146, 154, 155, 156, 161, 163, 175, 181, 216, 217, 220, 225, 228, 229, 232, 238, 241, 245, 265, 268]\n",
      "Anomaly and Negavitve sentiment:[ 20  49  63  83 119 217 229 232]\n",
      "'苹果困局：股价飙涨背后的转型难题\\n'\n",
      "'苹果Q4每股收益及营收超出预期\\n'\n",
      "'苹果供应商遭遇冰火两重天：iPhone供应商业绩变脸 穿戴设备供应商增长明显\\n'\n",
      "'JDI连续第11个季度录得净亏损：苹果认栽了\\n'\n",
      "'苹果：自2009年以来公司每年在维修业务上都是亏钱的\\n'\n",
      "'传苹果或削减高端iPhone产量\\n'\n",
      "'苹果股价盘后一度跳水 跌幅近5%\\n'\n",
      "'苹果多头减持幅度较大\\n'\n"
     ]
    }
   ],
   "source": [
    "apple = EnsembleAD(\"apple\", threshold=0.5)"
   ]
  },
  {
   "cell_type": "code",
   "execution_count": 54,
   "metadata": {},
   "outputs": [
    {
     "name": "stdout",
     "output_type": "stream",
     "text": [
      "Initializing...\n",
      "detecting with LSCP...\n"
     ]
    },
    {
     "data": {
      "application/vnd.jupyter.widget-view+json": {
       "model_id": "33251839607d4d24bb0389080f728edc",
       "version_major": 2,
       "version_minor": 0
      },
      "text/plain": [
       "HBox(children=(FloatProgress(value=0.0, max=10.0), HTML(value='')))"
      ]
     },
     "metadata": {},
     "output_type": "display_data"
    },
    {
     "name": "stdout",
     "output_type": "stream",
     "text": [
      "\n",
      "Anomaly idx:[3, 7, 8, 10, 15, 20, 24, 26, 32, 35, 39, 43, 44, 49, 52, 53, 58, 63, 66, 75, 77, 83, 88, 115, 118, 119, 135, 137, 160, 165, 172, 192, 202, 206, 213, 217, 218, 227, 229, 230, 232, 236, 242, 244, 248, 250, 253, 260]\n",
      "Negtive senti:[0, 5, 9, 19, 20, 23, 27, 44, 49, 57, 59, 60, 62, 63, 65, 69, 71, 74, 81, 83, 84, 94, 96, 108, 111, 119, 121, 129, 136, 140, 146, 154, 155, 156, 161, 163, 175, 181, 216, 217, 220, 225, 228, 229, 232, 238, 241, 245, 265, 268]\n",
      "Anomaly and Negavitve sentiment:[ 20  44  49  63  83 119 217 229 232]\n",
      "'苹果困局：股价飙涨背后的转型难题\\n'\n",
      "'苹果市场份额下滑致全年预亏 百邦科技上市逾一年业绩“变脸”\\n'\n",
      "'苹果Q4每股收益及营收超出预期\\n'\n",
      "'苹果供应商遭遇冰火两重天：iPhone供应商业绩变脸 穿戴设备供应商增长明显\\n'\n",
      "'JDI连续第11个季度录得净亏损：苹果认栽了\\n'\n",
      "'苹果：自2009年以来公司每年在维修业务上都是亏钱的\\n'\n",
      "'传苹果或削减高端iPhone产量\\n'\n",
      "'苹果股价盘后一度跳水 跌幅近5%\\n'\n",
      "'苹果多头减持幅度较大\\n'\n"
     ]
    }
   ],
   "source": [
    "apple = EnsembleAD(\"apple\", 10, threshold=0.5)"
   ]
  },
  {
   "cell_type": "code",
   "execution_count": 47,
   "metadata": {},
   "outputs": [
    {
     "name": "stdout",
     "output_type": "stream",
     "text": [
      "Initializing...\n",
      "detecting with LSCP...\n"
     ]
    },
    {
     "data": {
      "application/vnd.jupyter.widget-view+json": {
       "model_id": "6d39d3ba591f4ad39cec19a8b680344a",
       "version_major": 2,
       "version_minor": 0
      },
      "text/plain": [
       "HBox(children=(FloatProgress(value=0.0, max=10.0), HTML(value='')))"
      ]
     },
     "metadata": {},
     "output_type": "display_data"
    },
    {
     "name": "stdout",
     "output_type": "stream",
     "text": [
      "\n",
      "Anomaly idx:[3, 7, 8, 15, 20, 24, 26, 32, 39, 43, 49, 52, 53, 58, 75, 77, 83, 88, 119, 135, 172, 202, 206, 213, 217, 218, 229, 230, 232, 248, 253, 260]\n",
      "Negtive senti:[0, 5, 9, 19, 20, 23, 27, 44, 49, 57, 59, 60, 62, 63, 65, 69, 71, 74, 81, 83, 84, 94, 96, 108, 111, 119, 121, 129, 136, 140, 146, 154, 155, 156, 161, 163, 175, 181, 216, 217, 220, 225, 228, 229, 232, 238, 241, 245, 265, 268]\n",
      "Anomaly and Negavitve sentiment:[ 20  49  83 119 217 229 232]\n",
      "'苹果困局：股价飙涨背后的转型难题\\n'\n",
      "'苹果Q4每股收益及营收超出预期\\n'\n",
      "'JDI连续第11个季度录得净亏损：苹果认栽了\\n'\n",
      "'苹果：自2009年以来公司每年在维修业务上都是亏钱的\\n'\n",
      "'传苹果或削减高端iPhone产量\\n'\n",
      "'苹果股价盘后一度跳水 跌幅近5%\\n'\n",
      "'苹果多头减持幅度较大\\n'\n"
     ]
    }
   ],
   "source": [
    "apple = EnsembleAD(\"apple\", 10, threshold=0.5)"
   ]
  },
  {
   "cell_type": "code",
   "execution_count": 79,
   "metadata": {},
   "outputs": [
    {
     "name": "stdout",
     "output_type": "stream",
     "text": [
      "Initializing...\n",
      "detecting with LSCP...\n",
      "Anomaly idx:[0, 10, 21, 22, 24, 34, 38, 51, 57, 59, 75, 85, 88, 89, 90]\n",
      "Negtive senti:[12, 16, 18, 24, 25, 30, 42, 44, 45, 53, 55, 58, 59, 72, 74, 76, 77, 78, 82, 92]\n",
      "Anomaly and Negavitve sentiment:[24 59]\n",
      "'花旗：预计Azure 2020年增速放缓 予微软（MSFT.US）“中性”评级\\n'\n",
      "'美股科技股表现分化 微软刷新历史新高\\n'\n"
     ]
    }
   ],
   "source": [
    "microsoft = EnsembleAD(\"microsoft\", 10, threshold=0.5)"
   ]
  },
  {
   "cell_type": "code",
   "execution_count": 80,
   "metadata": {},
   "outputs": [
    {
     "name": "stdout",
     "output_type": "stream",
     "text": [
      "Initializing...\n",
      "detecting with LSCP...\n",
      "Anomaly idx:[3]\n",
      "Negtive senti:[3, 5, 7, 8, 9, 11, 12, 13, 14, 15, 16, 17, 18, 19, 20, 23, 25, 26, 27]\n",
      "Anomaly and Negavitve sentiment:[3]\n",
      "'【图解季报】獐子岛2019年前三季度净利润-3403万元 同比下降245.53%\\n'\n"
     ]
    },
    {
     "name": "stderr",
     "output_type": "stream",
     "text": [
      "/Users/Lin/opt/anaconda3/envs/pDL/lib/python3.8/site-packages/pyod/models/lscp.py:233: UserWarning: Local region size of 14 is outside recommended range [30, 200]\n",
      "  warnings.warn(\"Local region size of {} is outside \"\n",
      "/Users/Lin/opt/anaconda3/envs/pDL/lib/python3.8/site-packages/pyod/models/lscp.py:233: UserWarning: Local region size of 14 is outside recommended range [30, 200]\n",
      "  warnings.warn(\"Local region size of {} is outside \"\n"
     ]
    }
   ],
   "source": [
    "zzd = EnsembleAD(\"zzd\", 10, threshold=0.5)"
   ]
  },
  {
   "cell_type": "code",
   "execution_count": 35,
   "metadata": {},
   "outputs": [
    {
     "name": "stdout",
     "output_type": "stream",
     "text": [
      "Initializing...\n",
      "detecting with iForest...\n"
     ]
    },
    {
     "data": {
      "application/vnd.jupyter.widget-view+json": {
       "model_id": "285b0be8703243afad498f57bc7d6c8c",
       "version_major": 2,
       "version_minor": 0
      },
      "text/plain": [
       "HBox(children=(FloatProgress(value=0.0, max=10.0), HTML(value='')))"
      ]
     },
     "metadata": {},
     "output_type": "display_data"
    },
    {
     "name": "stdout",
     "output_type": "stream",
     "text": [
      "\n",
      "detecting with LOF...\n"
     ]
    },
    {
     "data": {
      "application/vnd.jupyter.widget-view+json": {
       "model_id": "94b555bf5a274bd9b65751981436ac69",
       "version_major": 2,
       "version_minor": 0
      },
      "text/plain": [
       "HBox(children=(FloatProgress(value=0.0, max=10.0), HTML(value='')))"
      ]
     },
     "metadata": {},
     "output_type": "display_data"
    },
    {
     "name": "stdout",
     "output_type": "stream",
     "text": [
      "\n",
      "detecting with KNN...\n"
     ]
    },
    {
     "data": {
      "application/vnd.jupyter.widget-view+json": {
       "model_id": "8a49131a9e2d4e53b1fd83a52d795658",
       "version_major": 2,
       "version_minor": 0
      },
      "text/plain": [
       "HBox(children=(FloatProgress(value=0.0, max=10.0), HTML(value='')))"
      ]
     },
     "metadata": {},
     "output_type": "display_data"
    },
    {
     "name": "stdout",
     "output_type": "stream",
     "text": [
      "\n",
      "Anomaly idx:[3]\n",
      "Negtive senti:[3, 5, 7, 8, 9, 11, 12, 13, 14, 15, 16, 17, 18, 19, 20, 23, 25, 26, 27]\n",
      "Anomaly and Negavitve sentiment:[3]\n",
      "'【图解季报】獐子岛2019年前三季度净利润-3403万元 同比下降245.53%\\n'\n"
     ]
    }
   ],
   "source": [
    "zzd = EnsembleAD(\"zzd\", 10, threshold=1.2)"
   ]
  },
  {
   "cell_type": "code",
   "execution_count": 81,
   "metadata": {},
   "outputs": [
    {
     "name": "stdout",
     "output_type": "stream",
     "text": [
      "Initializing...\n",
      "detecting with LSCP...\n",
      "Anomaly idx:[9, 14, 15, 18, 19, 24, 25, 26, 30, 31, 34, 43]\n",
      "Negtive senti:[12, 13, 14, 15, 17, 20, 21, 28, 30, 32, 35, 36, 37, 38, 40, 42, 43]\n",
      "Anomaly and Negavitve sentiment:[14 15 30 43]\n",
      "'宝能系减持万科6.49亿元\\n'\n",
      "'华侨城拟转让万科合资公司50%股权及债权 挂牌底价23.3亿元\\n'\n",
      "'【万科A：钜盛华所持4700万股公司A股解除质押】万科A(000002)12月13日晚间公告，12月12日，钜盛华将持有并质押给招商证券的万科4700万股无限售流通A股办理解除质押；此次解押股数占钜盛华所持股份的10.01%，占万科总股本的0.42%。截至目前，钜盛华及其一致行动人前海人寿累计质押股份4.45亿股，占其所持股份的63.78%，占公司总股本的3.94%。（证券时报）\\n'\n",
      "'宝能系减持万科股票5.65亿股 持股比例不足5%\\n'\n"
     ]
    }
   ],
   "source": [
    "vanke = EnsembleAD(\"vanke\", 10, threshold=0.5)"
   ]
  },
  {
   "cell_type": "code",
   "execution_count": 36,
   "metadata": {},
   "outputs": [
    {
     "name": "stdout",
     "output_type": "stream",
     "text": [
      "Initializing...\n",
      "detecting with iForest...\n"
     ]
    },
    {
     "data": {
      "application/vnd.jupyter.widget-view+json": {
       "model_id": "4af3d9c07028464ba9949c10b3bfd41d",
       "version_major": 2,
       "version_minor": 0
      },
      "text/plain": [
       "HBox(children=(FloatProgress(value=0.0, max=10.0), HTML(value='')))"
      ]
     },
     "metadata": {},
     "output_type": "display_data"
    },
    {
     "name": "stdout",
     "output_type": "stream",
     "text": [
      "\n",
      "detecting with LOF...\n"
     ]
    },
    {
     "data": {
      "application/vnd.jupyter.widget-view+json": {
       "model_id": "9c2bcdd37d0d46ebb54ead92bc2158af",
       "version_major": 2,
       "version_minor": 0
      },
      "text/plain": [
       "HBox(children=(FloatProgress(value=0.0, max=10.0), HTML(value='')))"
      ]
     },
     "metadata": {},
     "output_type": "display_data"
    },
    {
     "name": "stdout",
     "output_type": "stream",
     "text": [
      "\n",
      "detecting with KNN...\n"
     ]
    },
    {
     "data": {
      "application/vnd.jupyter.widget-view+json": {
       "model_id": "12df6473d65e4713a3f8635a08936704",
       "version_major": 2,
       "version_minor": 0
      },
      "text/plain": [
       "HBox(children=(FloatProgress(value=0.0, max=10.0), HTML(value='')))"
      ]
     },
     "metadata": {},
     "output_type": "display_data"
    },
    {
     "name": "stdout",
     "output_type": "stream",
     "text": [
      "\n",
      "Anomaly idx:[2, 3, 5, 6, 9, 14, 15, 18, 19, 24, 25, 26, 27, 30, 31, 34, 39, 43]\n",
      "Negtive senti:[12, 13, 14, 15, 17, 20, 21, 28, 30, 32, 35, 36, 37, 38, 40, 42, 43]\n",
      "Anomaly and Negavitve sentiment:[14 15 30 43]\n",
      "'宝能系减持万科6.49亿元\\n'\n",
      "'华侨城拟转让万科合资公司50%股权及债权 挂牌底价23.3亿元\\n'\n",
      "'【万科A：钜盛华所持4700万股公司A股解除质押】万科A(000002)12月13日晚间公告，12月12日，钜盛华将持有并质押给招商证券的万科4700万股无限售流通A股办理解除质押；此次解押股数占钜盛华所持股份的10.01%，占万科总股本的0.42%。截至目前，钜盛华及其一致行动人前海人寿累计质押股份4.45亿股，占其所持股份的63.78%，占公司总股本的3.94%。（证券时报）\\n'\n",
      "'宝能系减持万科股票5.65亿股 持股比例不足5%\\n'\n"
     ]
    }
   ],
   "source": [
    "vanke = EnsembleAD(\"vanke\", 10, threshold=1.2)"
   ]
  },
  {
   "cell_type": "code",
   "execution_count": 82,
   "metadata": {},
   "outputs": [
    {
     "name": "stdout",
     "output_type": "stream",
     "text": [
      "Initializing...\n",
      "detecting with LSCP...\n",
      "Anomaly idx:[6, 7, 12, 16, 17, 35, 38, 41, 45, 46, 53, 56, 61, 82, 147, 148, 158, 162, 163, 167, 169, 173, 174, 177]\n",
      "Negtive senti:[1, 2, 7, 29, 38, 39, 47, 56, 73, 77, 83, 89, 94, 98, 106, 107, 111, 113, 114, 127, 139, 146, 149, 152, 153, 154, 161, 164, 183]\n",
      "Anomaly and Negavitve sentiment:[ 7 38 56]\n",
      "'10月18日特斯拉板块跌幅达2%\\n'\n",
      "'特斯拉第三季度在美销售额暴跌39% 中国市场大增64%\\n'\n",
      "'11月11日特斯拉板块跌幅达2%\\n'\n"
     ]
    }
   ],
   "source": [
    "tesla = EnsembleAD(\"tesla\", 10, threshold=0.5)"
   ]
  },
  {
   "cell_type": "code",
   "execution_count": 37,
   "metadata": {},
   "outputs": [
    {
     "name": "stdout",
     "output_type": "stream",
     "text": [
      "Initializing...\n",
      "detecting with iForest...\n"
     ]
    },
    {
     "data": {
      "application/vnd.jupyter.widget-view+json": {
       "model_id": "5ea4f78306984e80b0c62a8fa4b341c0",
       "version_major": 2,
       "version_minor": 0
      },
      "text/plain": [
       "HBox(children=(FloatProgress(value=0.0, max=10.0), HTML(value='')))"
      ]
     },
     "metadata": {},
     "output_type": "display_data"
    },
    {
     "name": "stdout",
     "output_type": "stream",
     "text": [
      "\n",
      "detecting with LOF...\n"
     ]
    },
    {
     "data": {
      "application/vnd.jupyter.widget-view+json": {
       "model_id": "ec7c496792774e2798e219ebc58e8f71",
       "version_major": 2,
       "version_minor": 0
      },
      "text/plain": [
       "HBox(children=(FloatProgress(value=0.0, max=10.0), HTML(value='')))"
      ]
     },
     "metadata": {},
     "output_type": "display_data"
    },
    {
     "name": "stdout",
     "output_type": "stream",
     "text": [
      "\n",
      "detecting with KNN...\n"
     ]
    },
    {
     "data": {
      "application/vnd.jupyter.widget-view+json": {
       "model_id": "145581a4a223494a919e42848e3e5460",
       "version_major": 2,
       "version_minor": 0
      },
      "text/plain": [
       "HBox(children=(FloatProgress(value=0.0, max=10.0), HTML(value='')))"
      ]
     },
     "metadata": {},
     "output_type": "display_data"
    },
    {
     "name": "stdout",
     "output_type": "stream",
     "text": [
      "\n",
      "Anomaly idx:[6, 12, 17, 32, 35, 38, 39, 41, 45, 46, 50, 53, 61, 77, 97, 110, 146, 151, 158, 162, 163, 167, 173, 174, 177]\n",
      "Negtive senti:[1, 2, 7, 29, 38, 39, 47, 56, 73, 77, 83, 89, 94, 98, 106, 107, 111, 113, 114, 127, 139, 146, 149, 152, 153, 154, 161, 164, 183]\n",
      "Anomaly and Negavitve sentiment:[ 38  39  77 146]\n",
      "'特斯拉第三季度在美销售额暴跌39% 中国市场大增64%\\n'\n",
      "'特斯拉第三季度销量下降39% 其美国增长将面临强劲挑战\\n'\n",
      "'特斯拉新泽西州一超级充电站起火 起火原因尚不清楚\\n'\n",
      "'特斯拉法律总顾问Jonathan Chang离职 上任不到一年\\n'\n"
     ]
    }
   ],
   "source": [
    "tesla = EnsembleAD(\"tesla\", 10, threshold=1.2)"
   ]
  },
  {
   "cell_type": "code",
   "execution_count": 83,
   "metadata": {},
   "outputs": [
    {
     "name": "stdout",
     "output_type": "stream",
     "text": [
      "Initializing...\n",
      "detecting with LSCP...\n",
      "Anomaly idx:[3, 11, 13, 20, 23, 35, 38]\n",
      "Negtive senti:[7, 18, 25, 33, 34, 36, 37]\n",
      "Anomaly and Negavitve sentiment:[]\n"
     ]
    }
   ],
   "source": [
    "jd = EnsembleAD(\"jd\", 10, threshold=0.5)"
   ]
  },
  {
   "cell_type": "code",
   "execution_count": null,
   "metadata": {},
   "outputs": [],
   "source": []
  }
 ],
 "metadata": {
  "kernelspec": {
   "display_name": "Python [conda env:pDL] *",
   "language": "python",
   "name": "conda-env-pDL-py"
  },
  "language_info": {
   "codemirror_mode": {
    "name": "ipython",
    "version": 3
   },
   "file_extension": ".py",
   "mimetype": "text/x-python",
   "name": "python",
   "nbconvert_exporter": "python",
   "pygments_lexer": "ipython3",
   "version": "3.8.1"
  }
 },
 "nbformat": 4,
 "nbformat_minor": 4
}
