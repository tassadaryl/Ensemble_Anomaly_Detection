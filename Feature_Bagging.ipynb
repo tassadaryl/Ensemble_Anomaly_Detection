{
 "cells": [
  {
   "cell_type": "code",
   "execution_count": 1,
   "metadata": {},
   "outputs": [],
   "source": [
    "import pickle\n",
    "import numpy as np\n",
    "import random\n",
    "import pandas as pd"
   ]
  },
  {
   "cell_type": "code",
   "execution_count": 2,
   "metadata": {},
   "outputs": [
    {
     "ename": "FileNotFoundError",
     "evalue": "[Errno 2] No such file or directory: './title_apple_vec.np'",
     "output_type": "error",
     "traceback": [
      "\u001b[0;31m---------------------------------------------------------------------------\u001b[0m",
      "\u001b[0;31mFileNotFoundError\u001b[0m                         Traceback (most recent call last)",
      "\u001b[0;32m<ipython-input-2-adcb7dd4f6fa>\u001b[0m in \u001b[0;36m<module>\u001b[0;34m\u001b[0m\n\u001b[0;32m----> 1\u001b[0;31m \u001b[0;32mwith\u001b[0m \u001b[0mopen\u001b[0m\u001b[0;34m(\u001b[0m\u001b[0;34m'./title_apple_vec.np'\u001b[0m\u001b[0;34m,\u001b[0m \u001b[0;34m'rb'\u001b[0m\u001b[0;34m)\u001b[0m \u001b[0;32mas\u001b[0m \u001b[0mf\u001b[0m\u001b[0;34m:\u001b[0m\u001b[0;34m\u001b[0m\u001b[0;34m\u001b[0m\u001b[0m\n\u001b[0m\u001b[1;32m      2\u001b[0m     \u001b[0mX\u001b[0m \u001b[0;34m=\u001b[0m \u001b[0mpickle\u001b[0m\u001b[0;34m.\u001b[0m\u001b[0mload\u001b[0m\u001b[0;34m(\u001b[0m\u001b[0mf\u001b[0m\u001b[0;34m)\u001b[0m\u001b[0;34m\u001b[0m\u001b[0;34m\u001b[0m\u001b[0m\n\u001b[1;32m      3\u001b[0m \u001b[0mX\u001b[0m\u001b[0;34m.\u001b[0m\u001b[0mshape\u001b[0m\u001b[0;34m\u001b[0m\u001b[0;34m\u001b[0m\u001b[0m\n",
      "\u001b[0;31mFileNotFoundError\u001b[0m: [Errno 2] No such file or directory: './title_apple_vec.np'"
     ]
    }
   ],
   "source": [
    "with open('./title_apple_vec.np', 'rb') as f:\n",
    "    X = pickle.load(f)\n",
    "X.shape"
   ]
  },
  {
   "cell_type": "code",
   "execution_count": null,
   "metadata": {},
   "outputs": [],
   "source": [
    "T = 10          #rounds"
   ]
  },
  {
   "cell_type": "code",
   "execution_count": null,
   "metadata": {},
   "outputs": [],
   "source": [
    "#generate sorted random indices list with length d, where d is randomly picked between D/2 and D-1\n",
    "def generate_indicies(D):\n",
    "    d = random.randint(D//2, D-2)\n",
    "    indicies = random.sample(range(0, D - 1), d)\n",
    "    return sorted(indicies)"
   ]
  },
  {
   "cell_type": "code",
   "execution_count": null,
   "metadata": {},
   "outputs": [],
   "source": [
    "#generate corped X\n",
    "def generate_corped_x(X):\n",
    "    D = len(X[0])\n",
    "    indices = generate_indicies(D)\n",
    "    return X[:, indices]"
   ]
  },
  {
   "cell_type": "code",
   "execution_count": null,
   "metadata": {},
   "outputs": [],
   "source": [
    "new_X = generate_corped_x(X)\n",
    "new_X.shape"
   ]
  },
  {
   "cell_type": "code",
   "execution_count": null,
   "metadata": {},
   "outputs": [],
   "source": [
    "# from sklearn.ensemble import IsolationForest\n",
    "# from sklearn.neighbors import LocalOutlierFactor\n",
    "from pyod.models.iforest import IForest\n",
    "from pyod.models.lof import LOF\n",
    "from pyod.models.abod import ABOD\n",
    "from pyod.models.knn import KNN\n",
    "from tqdm.notebook import tqdm"
   ]
  },
  {
   "cell_type": "code",
   "execution_count": null,
   "metadata": {},
   "outputs": [],
   "source": [
    "AS_iforest = []\n",
    "PR_iforest = []\n",
    "for t in tqdm(range(T)):\n",
    "    X_corped = generate_corped_x(X)\n",
    "#     clf_iforest = IsolationForest().fit_predict(X_corped)\n",
    "#     Anomaly_score = clf_iforest.score_samples(X_corped)\n",
    "    clf_iforest = IForest().fit(X_corped)\n",
    "    Anomaly_score = clf_iforest.decision_function(X_corped)\n",
    "    Anomaly_proba = clf_iforest.predict_proba(X_corped)\n",
    "    AS_iforest.append(Anomaly_score)\n",
    "    PR_iforest.append(Anomaly_proba)\n",
    "AS_iforest = np.array(AS_iforest)\n",
    "PR_iforest = np.array(PR_iforest)\n",
    "iforest_res = np.mean(AS_iforest, axis=0)\n",
    "iforest_prob = np.mean(PR_iforest, axis=0)"
   ]
  },
  {
   "cell_type": "code",
   "execution_count": null,
   "metadata": {},
   "outputs": [],
   "source": [
    "AS_LOF = []\n",
    "PR_LOF = []\n",
    "for t in tqdm(range(T)):\n",
    "    X_corped = generate_corped_x(X)\n",
    "#     clf_LOF = LocalOutlierFactor(n_neighbors=5, contamination=0.1).fit(X_corped)\n",
    "#     Anomaly_score = clf_LOF.negative_outlier_factor_\n",
    "    clf_LOF = LOF(n_neighbors=5).fit(X_corped)\n",
    "    Anomaly_score = clf_LOF.decision_function(X_corped)\n",
    "    Anomaly_proba = clf_LOF.predict_proba(X_corped)\n",
    "    AS_LOF.append(Anomaly_score)\n",
    "    PR_LOF.append(Anomaly_proba)\n",
    "AS_LOF = np.array(AS_LOF)\n",
    "PR_LOF = np.array(PR_LOF)\n",
    "LOF_res = np.mean(AS_LOF, axis=0)\n",
    "LOF_prob = np.mean(PR_LOF, axis=0)"
   ]
  },
  {
   "cell_type": "code",
   "execution_count": null,
   "metadata": {},
   "outputs": [],
   "source": [
    "AS_ABOD = []\n",
    "PR_ABOD = []\n",
    "for t in tqdm(range(T)):\n",
    "    X_corped = generate_corped_x(X)\n",
    "    clf_ABOD = ABOD(contamination=0.1, n_neighbors=5, method='fast').fit(X_corped)\n",
    "    Anomaly_score = clf_ABOD.decision_scores_\n",
    "    Anomaly_proba = clf_ABOD.predict_proba(X_corped, method='unify')\n",
    "    AS_ABOD.append(Anomaly_score)\n",
    "    PR_ABOD.append(Anomaly_proba)\n",
    "AS_ABOD = np.array(AS_ABOD)\n",
    "PR_ABOD = np.array(PR_ABOD)\n",
    "ABOD_res = np.mean(AS_ABOD, axis=0)\n",
    "ABOD_prob = np.mean(PR_ABOD, axis=0)"
   ]
  },
  {
   "cell_type": "code",
   "execution_count": null,
   "metadata": {},
   "outputs": [],
   "source": [
    "AS_KNN = []\n",
    "PR_KNN = []\n",
    "for t in tqdm(range(T)):\n",
    "    X_corped = generate_corped_x(X)\n",
    "    clf_KNN = KNN(contamination=0.1, n_neighbors=5, method='largest').fit(X_corped)\n",
    "    Anomaly_score = clf_KNN.decision_scores_\n",
    "    Anomaly_proba = clf_KNN.predict_proba(X_corped)\n",
    "    AS_KNN.append(Anomaly_score)\n",
    "    PR_KNN.append(Anomaly_proba)\n",
    "AS_KNN = np.array(AS_KNN)\n",
    "PR_KNN = np.array(PR_KNN)\n",
    "KNN_res = np.mean(AS_KNN, axis=0)\n",
    "KNN_prob = np.mean(PR_KNN, axis=0)"
   ]
  },
  {
   "cell_type": "code",
   "execution_count": null,
   "metadata": {},
   "outputs": [],
   "source": [
    "doc_title_apple= \"./data/company/title_apple.txt\"\n",
    "corpus = []\n",
    "with open(doc_title_apple, \"r\" ) as f:\n",
    "    for line in f:\n",
    "        corpus.append(line)"
   ]
  },
  {
   "cell_type": "code",
   "execution_count": null,
   "metadata": {},
   "outputs": [],
   "source": [
    "from pprint import pprint\n",
    "pprint(corpus)"
   ]
  },
  {
   "cell_type": "code",
   "execution_count": null,
   "metadata": {},
   "outputs": [],
   "source": [
    "for idx in ans:\n",
    "    pprint(corpus[idx])"
   ]
  },
  {
   "cell_type": "code",
   "execution_count": null,
   "metadata": {},
   "outputs": [],
   "source": [
    "PROB = LOF_prob + iforest_prob + KNN_prob"
   ]
  },
  {
   "cell_type": "code",
   "execution_count": null,
   "metadata": {},
   "outputs": [],
   "source": [
    "PROB = PROB[:, 1]"
   ]
  },
  {
   "cell_type": "code",
   "execution_count": null,
   "metadata": {},
   "outputs": [],
   "source": [
    "ano_idx = [i for i, val in enumerate(PROB) if val > 1.5]"
   ]
  },
  {
   "cell_type": "code",
   "execution_count": null,
   "metadata": {},
   "outputs": [],
   "source": [
    "ano_idx"
   ]
  },
  {
   "cell_type": "code",
   "execution_count": null,
   "metadata": {},
   "outputs": [],
   "source": [
    "for idx in ano_idx:\n",
    "    pprint(corpus[idx])"
   ]
  },
  {
   "cell_type": "code",
   "execution_count": null,
   "metadata": {},
   "outputs": [],
   "source": [
    "df_apple = pd.read_csv('./data/company/apple.csv')"
   ]
  },
  {
   "cell_type": "code",
   "execution_count": null,
   "metadata": {},
   "outputs": [],
   "source": [
    "df_a = df_apple.iloc[ano_idx]"
   ]
  },
  {
   "cell_type": "code",
   "execution_count": null,
   "metadata": {},
   "outputs": [],
   "source": [
    "df_a.loc[df_a[\"sentiment\"] == -1]"
   ]
  },
  {
   "cell_type": "code",
   "execution_count": null,
   "metadata": {},
   "outputs": [],
   "source": [
    "neg_idx = df_apple.index[df_apple['sentiment'] == -1].tolist()"
   ]
  },
  {
   "cell_type": "code",
   "execution_count": null,
   "metadata": {},
   "outputs": [],
   "source": [
    "neg_idx"
   ]
  },
  {
   "cell_type": "code",
   "execution_count": null,
   "metadata": {},
   "outputs": [],
   "source": [
    "res = np.intersect1d(ano_idx, neg_idx)"
   ]
  },
  {
   "cell_type": "code",
   "execution_count": null,
   "metadata": {},
   "outputs": [],
   "source": [
    "for idx in res:\n",
    "    pprint(corpus[idx])"
   ]
  },
  {
   "cell_type": "code",
   "execution_count": null,
   "metadata": {},
   "outputs": [],
   "source": []
  }
 ],
 "metadata": {
  "kernelspec": {
   "display_name": "Python [conda env:pDL] *",
   "language": "python",
   "name": "conda-env-pDL-py"
  },
  "language_info": {
   "codemirror_mode": {
    "name": "ipython",
    "version": 3
   },
   "file_extension": ".py",
   "mimetype": "text/x-python",
   "name": "python",
   "nbconvert_exporter": "python",
   "pygments_lexer": "ipython3",
   "version": "3.8.1"
  }
 },
 "nbformat": 4,
 "nbformat_minor": 4
}
