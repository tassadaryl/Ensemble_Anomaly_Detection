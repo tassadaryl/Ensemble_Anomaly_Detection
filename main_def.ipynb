{
 "cells": [
  {
   "cell_type": "code",
   "execution_count": 1,
   "metadata": {},
   "outputs": [],
   "source": [
    "import re\n",
    "import jieba\n",
    "import gensim\n",
    "import numpy as np\n",
    "from gensim import corpora, models, similarities\n",
    "from gensim.models import KeyedVectors\n",
    "from pprint import pprint\n",
    "from collections import defaultdict\n",
    "from tqdm import tqdm\n",
    "\n",
    "import logging\n",
    "logging.basicConfig(format='%(asctime)s : %(levelname)s : %(message)s', level=logging.INFO)"
   ]
  },
  {
   "cell_type": "code",
   "execution_count": 2,
   "metadata": {},
   "outputs": [],
   "source": [
    "def load_stopwords(stopwords_path):\n",
    "    with open(stopwords_path, 'r', encoding='utf-8') as f:\n",
    "        return [line.strip() for line in f]\n",
    "    \n",
    "def preprocess_data(corpus_path, stopwords):\n",
    "    #clean data\n",
    "    corpus = []\n",
    "    with open(corpus_path, 'r', encoding='utf-8') as f:\n",
    "        for line in f:\n",
    "            line = line.strip()\n",
    "            line = re.sub(r\"[0-9\\s+\\.\\!\\/_,$%^*()?;；:-【】+\\\"\\']+|[+——！，;:。？、~@#￥%……&*（）]+\", \" \", line)\n",
    "            corpus.append(' '.join([word for word in jieba.lcut(line) if word != \" \" and word != \"\\t\" and word not in stopwords]))\n",
    "    return corpus\n",
    "\n",
    "def cut_low_freq_word(documents, thre):\n",
    "    #return list of words\n",
    "    texts = [[word for word in document.split()] for document in documents]\n",
    "    frequency = defaultdict(int)\n",
    "    for text in texts:\n",
    "        for token in text:\n",
    "            frequency[token] += 1\n",
    "    return [[token for token in text if frequency[token] > thre] for text in texts]\n",
    "\n",
    "def cut_low_freq_word2(documents, thre):\n",
    "    #return strings of words seperated by \" \"\n",
    "    texts = [[word for word in document.split()] for document in documents]\n",
    "    frequency = defaultdict(int)\n",
    "    for text in texts:\n",
    "        for token in text:\n",
    "            frequency[token] += 1\n",
    "    return [(\" \").join([token for token in text if frequency[token] > thre]) for text in texts]"
   ]
  },
  {
   "cell_type": "code",
   "execution_count": 3,
   "metadata": {},
   "outputs": [],
   "source": [
    "stopwords_path = \"./data/stop_words.txt\"\n",
    "doc_title_east = \"./data/company/title_east.txt\"\n",
    "doc_title_apple= \"./data/company/title_apple.txt\""
   ]
  },
  {
   "cell_type": "code",
   "execution_count": 4,
   "metadata": {
    "tags": []
   },
   "outputs": [
    {
     "name": "stderr",
     "output_type": "stream",
     "text": [
      "Building prefix dict from the default dictionary ...\n",
      "2020-07-30 09:25:34,561 : DEBUG : Building prefix dict from the default dictionary ...\n",
      "Dumping model to file cache /var/folders/m3/4yh806w92fdgcn0bk16ql7nw0000gn/T/jieba.cache\n",
      "2020-07-30 09:25:35,312 : DEBUG : Dumping model to file cache /var/folders/m3/4yh806w92fdgcn0bk16ql7nw0000gn/T/jieba.cache\n",
      "Loading model cost 0.808 seconds.\n",
      "2020-07-30 09:25:35,370 : DEBUG : Loading model cost 0.808 seconds.\n",
      "Prefix dict has been built successfully.\n",
      "2020-07-30 09:25:35,371 : DEBUG : Prefix dict has been built successfully.\n"
     ]
    }
   ],
   "source": [
    "stopwords = load_stopwords(stopwords_path)\n",
    "corp_title_east = preprocess_data(doc_title_east, stopwords)\n",
    "corp_title_apple = preprocess_data(doc_title_apple, stopwords)"
   ]
  },
  {
   "cell_type": "code",
   "execution_count": 5,
   "metadata": {},
   "outputs": [],
   "source": [
    "texts_title_east = cut_low_freq_word(corp_title_east, 0)\n",
    "texts_title_apple = cut_low_freq_word(corp_title_apple, 0)"
   ]
  },
  {
   "cell_type": "code",
   "execution_count": 6,
   "metadata": {
    "tags": []
   },
   "outputs": [
    {
     "name": "stderr",
     "output_type": "stream",
     "text": [
      "2020-07-30 09:25:55,042 : INFO : collecting all words and their counts\n",
      "2020-07-30 09:25:55,043 : INFO : PROGRESS: at sentence #0, processed 0 words, keeping 0 word types\n",
      "2020-07-30 09:25:55,057 : INFO : PROGRESS: at sentence #10000, processed 72581 words, keeping 12157 word types\n",
      "2020-07-30 09:25:55,072 : INFO : PROGRESS: at sentence #20000, processed 147006 words, keeping 17386 word types\n",
      "2020-07-30 09:25:55,087 : INFO : PROGRESS: at sentence #30000, processed 216047 words, keeping 22523 word types\n",
      "2020-07-30 09:25:55,102 : INFO : PROGRESS: at sentence #40000, processed 284166 words, keeping 26964 word types\n",
      "2020-07-30 09:25:55,118 : INFO : PROGRESS: at sentence #50000, processed 351389 words, keeping 30567 word types\n",
      "2020-07-30 09:25:55,129 : INFO : collected 32002 word types from a corpus of 395877 raw words and 57222 sentences\n",
      "2020-07-30 09:25:55,130 : INFO : Loading a fresh vocabulary\n",
      "2020-07-30 09:25:55,150 : INFO : effective_min_count=5 retains 8804 unique words (27% of original 32002, drops 23198)\n",
      "2020-07-30 09:25:55,151 : INFO : effective_min_count=5 leaves 359479 word corpus (90% of original 395877, drops 36398)\n",
      "2020-07-30 09:25:55,175 : INFO : deleting the raw counts dictionary of 32002 items\n",
      "2020-07-30 09:25:55,176 : INFO : sample=0.001 downsamples 44 most-common words\n",
      "2020-07-30 09:25:55,176 : INFO : downsampling leaves estimated 305462 word corpus (85.0% of prior 359479)\n",
      "2020-07-30 09:25:55,192 : INFO : estimated required memory for 8804 words and 300 dimensions: 25531600 bytes\n",
      "2020-07-30 09:25:55,193 : INFO : resetting layer weights\n",
      "2020-07-30 09:25:56,770 : INFO : training model with 3 workers on 8804 vocabulary and 300 features, using sg=0 hs=0 sample=0.001 negative=5 window=5\n",
      "2020-07-30 09:25:57,022 : INFO : worker thread finished; awaiting finish of 2 more threads\n",
      "2020-07-30 09:25:57,028 : INFO : worker thread finished; awaiting finish of 1 more threads\n",
      "2020-07-30 09:25:57,029 : INFO : worker thread finished; awaiting finish of 0 more threads\n",
      "2020-07-30 09:25:57,030 : INFO : EPOCH - 1 : training on 395877 raw words (305419 effective words) took 0.2s, 1235171 effective words/s\n",
      "2020-07-30 09:25:57,276 : INFO : worker thread finished; awaiting finish of 2 more threads\n",
      "2020-07-30 09:25:57,281 : INFO : worker thread finished; awaiting finish of 1 more threads\n",
      "2020-07-30 09:25:57,285 : INFO : worker thread finished; awaiting finish of 0 more threads\n",
      "2020-07-30 09:25:57,286 : INFO : EPOCH - 2 : training on 395877 raw words (305375 effective words) took 0.2s, 1241465 effective words/s\n",
      "2020-07-30 09:25:57,554 : INFO : worker thread finished; awaiting finish of 2 more threads\n",
      "2020-07-30 09:25:57,559 : INFO : worker thread finished; awaiting finish of 1 more threads\n",
      "2020-07-30 09:25:57,560 : INFO : worker thread finished; awaiting finish of 0 more threads\n",
      "2020-07-30 09:25:57,561 : INFO : EPOCH - 3 : training on 395877 raw words (305216 effective words) took 0.3s, 1139139 effective words/s\n",
      "2020-07-30 09:25:57,827 : INFO : worker thread finished; awaiting finish of 2 more threads\n",
      "2020-07-30 09:25:57,830 : INFO : worker thread finished; awaiting finish of 1 more threads\n",
      "2020-07-30 09:25:57,832 : INFO : worker thread finished; awaiting finish of 0 more threads\n",
      "2020-07-30 09:25:57,833 : INFO : EPOCH - 4 : training on 395877 raw words (305338 effective words) took 0.3s, 1154366 effective words/s\n",
      "2020-07-30 09:25:58,083 : INFO : worker thread finished; awaiting finish of 2 more threads\n",
      "2020-07-30 09:25:58,085 : INFO : worker thread finished; awaiting finish of 1 more threads\n",
      "2020-07-30 09:25:58,088 : INFO : worker thread finished; awaiting finish of 0 more threads\n",
      "2020-07-30 09:25:58,088 : INFO : EPOCH - 5 : training on 395877 raw words (305439 effective words) took 0.2s, 1237330 effective words/s\n",
      "2020-07-30 09:25:58,089 : INFO : training on a 1979385 raw words (1526787 effective words) took 1.3s, 1157751 effective words/s\n",
      "2020-07-30 09:25:58,090 : INFO : loading projection weights from ./data/sgns.financial.char.bz2\n",
      "2020-07-30 09:28:49,453 : INFO : merged 7470 vectors into (8804, 300) matrix from ./data/sgns.financial.char.bz2\n",
      "2020-07-30 09:28:49,454 : WARNING : Effective 'alpha' higher than previous training cycles\n",
      "2020-07-30 09:28:49,455 : INFO : training model with 3 workers on 8804 vocabulary and 300 features, using sg=0 hs=0 sample=0.001 negative=5 window=5\n",
      "2020-07-30 09:28:49,711 : INFO : worker thread finished; awaiting finish of 2 more threads\n",
      "2020-07-30 09:28:49,715 : INFO : worker thread finished; awaiting finish of 1 more threads\n",
      "2020-07-30 09:28:49,719 : INFO : worker thread finished; awaiting finish of 0 more threads\n",
      "2020-07-30 09:28:49,720 : INFO : EPOCH - 1 : training on 395877 raw words (305508 effective words) took 0.3s, 1184934 effective words/s\n",
      "2020-07-30 09:28:49,973 : INFO : worker thread finished; awaiting finish of 2 more threads\n",
      "2020-07-30 09:28:49,975 : INFO : worker thread finished; awaiting finish of 1 more threads\n",
      "2020-07-30 09:28:49,977 : INFO : worker thread finished; awaiting finish of 0 more threads\n",
      "2020-07-30 09:28:49,978 : INFO : EPOCH - 2 : training on 395877 raw words (305310 effective words) took 0.2s, 1233203 effective words/s\n",
      "2020-07-30 09:28:50,227 : INFO : worker thread finished; awaiting finish of 2 more threads\n",
      "2020-07-30 09:28:50,231 : INFO : worker thread finished; awaiting finish of 1 more threads\n",
      "2020-07-30 09:28:50,233 : INFO : worker thread finished; awaiting finish of 0 more threads\n",
      "2020-07-30 09:28:50,234 : INFO : EPOCH - 3 : training on 395877 raw words (305617 effective words) took 0.2s, 1241229 effective words/s\n",
      "2020-07-30 09:28:50,509 : INFO : worker thread finished; awaiting finish of 2 more threads\n",
      "2020-07-30 09:28:50,520 : INFO : worker thread finished; awaiting finish of 1 more threads\n",
      "2020-07-30 09:28:50,521 : INFO : worker thread finished; awaiting finish of 0 more threads\n",
      "2020-07-30 09:28:50,522 : INFO : EPOCH - 4 : training on 395877 raw words (305605 effective words) took 0.3s, 1095536 effective words/s\n",
      "2020-07-30 09:28:50,790 : INFO : worker thread finished; awaiting finish of 2 more threads\n",
      "2020-07-30 09:28:50,792 : INFO : worker thread finished; awaiting finish of 1 more threads\n",
      "2020-07-30 09:28:50,795 : INFO : worker thread finished; awaiting finish of 0 more threads\n",
      "2020-07-30 09:28:50,795 : INFO : EPOCH - 5 : training on 395877 raw words (305404 effective words) took 0.3s, 1162640 effective words/s\n",
      "2020-07-30 09:28:51,054 : INFO : worker thread finished; awaiting finish of 2 more threads\n",
      "2020-07-30 09:28:51,058 : INFO : worker thread finished; awaiting finish of 1 more threads\n",
      "2020-07-30 09:28:51,059 : INFO : worker thread finished; awaiting finish of 0 more threads\n",
      "2020-07-30 09:28:51,060 : INFO : EPOCH - 6 : training on 395877 raw words (305402 effective words) took 0.3s, 1195868 effective words/s\n",
      "2020-07-30 09:28:51,327 : INFO : worker thread finished; awaiting finish of 2 more threads\n",
      "2020-07-30 09:28:51,332 : INFO : worker thread finished; awaiting finish of 1 more threads\n",
      "2020-07-30 09:28:51,335 : INFO : worker thread finished; awaiting finish of 0 more threads\n",
      "2020-07-30 09:28:51,335 : INFO : EPOCH - 7 : training on 395877 raw words (305664 effective words) took 0.3s, 1167059 effective words/s\n",
      "2020-07-30 09:28:51,595 : INFO : worker thread finished; awaiting finish of 2 more threads\n",
      "2020-07-30 09:28:51,598 : INFO : worker thread finished; awaiting finish of 1 more threads\n",
      "2020-07-30 09:28:51,600 : INFO : worker thread finished; awaiting finish of 0 more threads\n",
      "2020-07-30 09:28:51,600 : INFO : EPOCH - 8 : training on 395877 raw words (305194 effective words) took 0.3s, 1193785 effective words/s\n",
      "2020-07-30 09:28:51,864 : INFO : worker thread finished; awaiting finish of 2 more threads\n",
      "2020-07-30 09:28:51,866 : INFO : worker thread finished; awaiting finish of 1 more threads\n",
      "2020-07-30 09:28:51,870 : INFO : worker thread finished; awaiting finish of 0 more threads\n",
      "2020-07-30 09:28:51,871 : INFO : EPOCH - 9 : training on 395877 raw words (305407 effective words) took 0.3s, 1160485 effective words/s\n",
      "2020-07-30 09:28:52,118 : INFO : worker thread finished; awaiting finish of 2 more threads\n",
      "2020-07-30 09:28:52,123 : INFO : worker thread finished; awaiting finish of 1 more threads\n"
     ]
    },
    {
     "name": "stderr",
     "output_type": "stream",
     "text": [
      "2020-07-30 09:28:52,124 : INFO : worker thread finished; awaiting finish of 0 more threads\n",
      "2020-07-30 09:28:52,124 : INFO : EPOCH - 10 : training on 395877 raw words (305555 effective words) took 0.2s, 1271011 effective words/s\n",
      "2020-07-30 09:28:52,125 : INFO : training on a 3958770 raw words (3054666 effective words) took 2.7s, 1144384 effective words/s\n"
     ]
    },
    {
     "data": {
      "text/plain": [
       "(3054666, 3958770)"
      ]
     },
     "execution_count": 6,
     "metadata": {},
     "output_type": "execute_result"
    }
   ],
   "source": [
    "#word2vec model transfer learning on our corpus\n",
    "model_w2v = gensim.models.Word2Vec(texts_title_east, size=300)\n",
    "model_w2v.intersect_word2vec_format('./data/sgns.financial.char.bz2',\n",
    "                                lockf=1.0,\n",
    "                                encoding='utf8',\n",
    "                                )\n",
    "model_w2v.train(texts_title_east,total_examples=model_w2v.corpus_count, epochs=10)"
   ]
  },
  {
   "cell_type": "code",
   "execution_count": 7,
   "metadata": {},
   "outputs": [],
   "source": [
    "#get tfidf transformer\n",
    "from sklearn.feature_extraction.text import TfidfVectorizer\n",
    "pass_through = lambda x:x\n",
    "tfidf = TfidfVectorizer(analyzer=pass_through)\n",
    "title_vectorizer = tfidf.fit_transform(texts_title_east)"
   ]
  },
  {
   "cell_type": "code",
   "execution_count": 8,
   "metadata": {},
   "outputs": [],
   "source": [
    "#get weight matrix\n",
    "def get_tfidf_weight(_tfidf, _texts):\n",
    "    print(\"getting tfidf...\")\n",
    "    weight = []\n",
    "    for i in range(len(_tfidf)):\n",
    "        idf_list = _tfidf[i]\n",
    "        temp = []\n",
    "        for word in _texts[i]:\n",
    "            temp.append(idf_list[tfidf.vocabulary_[word]])\n",
    "        temp = np.array(temp)\n",
    "        weight.append(temp)\n",
    "    weight = np.array(weight)\n",
    "\n",
    "    return weight\n"
   ]
  },
  {
   "cell_type": "code",
   "execution_count": 9,
   "metadata": {
    "tags": []
   },
   "outputs": [],
   "source": [
    "#get word2vec matrix\n",
    "def get_w2v_matrix(_texts):\n",
    "    print(\"getting word2vec matrix...\")\n",
    "    doc_w2v = []\n",
    "    for i in tqdm(range(len(_texts))):\n",
    "        sentence_w2v = []\n",
    "        for word in _texts[i]:\n",
    "            if word not in model_w2v.wv.vocab:\n",
    "                sentence_w2v.append(np.zeros((300,)))\n",
    "            else:\n",
    "                sentence_w2v.append(model_w2v[word])\n",
    "        sentence_w2v = np.array(sentence_w2v)\n",
    "        doc_w2v.append(sentence_w2v)\n",
    "    doc_w2v = np.array(doc_w2v)\n",
    "\n",
    "    return doc_w2v\n"
   ]
  },
  {
   "cell_type": "code",
   "execution_count": 10,
   "metadata": {
    "tags": []
   },
   "outputs": [],
   "source": [
    "#compute sentence embedding\n",
    "def compute_weighted_centroids(X, weights):\n",
    "    centroids = []\n",
    "    for question_vector_weight in zip(X, weights):\n",
    "        if question_vector_weight:\n",
    "            question_vectors, question_weights = question_vector_weight\n",
    "            if np.sum(question_weights) != 0:\n",
    "                centroids.append(np.average(question_vectors, weights=question_weights, axis=0))\n",
    "            else:\n",
    "                centroids.append(np.zeros(300,))                    \n",
    "        else:\n",
    "            centroids.append(np.zeros(300,))\n",
    "    return np.array(centroids)\n",
    "\n",
    "def get_sentence_embedding(_w2v, _weight):\n",
    "    print(\"getting sentence embedding...\")\n",
    "    sentence_embedding = compute_weighted_centroids(_w2v, _weight)\n",
    "    return np.stack(sentence_embedding)\n",
    "     "
   ]
  },
  {
   "cell_type": "code",
   "execution_count": 11,
   "metadata": {
    "tags": []
   },
   "outputs": [
    {
     "name": "stdout",
     "output_type": "stream",
     "text": [
      "getting tfidf...\n"
     ]
    },
    {
     "name": "stderr",
     "output_type": "stream",
     "text": [
      "  0%|          | 0/57222 [00:00<?, ?it/s]<ipython-input-9-86b5834f3e10>:11: DeprecationWarning: Call to deprecated `__getitem__` (Method will be removed in 4.0.0, use self.wv.__getitem__() instead).\n",
      "  sentence_w2v.append(model_w2v[word])\n",
      "  5%|▍         | 2848/57222 [00:00<00:01, 28474.80it/s]"
     ]
    },
    {
     "name": "stdout",
     "output_type": "stream",
     "text": [
      "getting word2vec matrix...\n"
     ]
    },
    {
     "name": "stderr",
     "output_type": "stream",
     "text": [
      "100%|██████████| 57222/57222 [00:01<00:00, 30162.10it/s]\n"
     ]
    },
    {
     "name": "stdout",
     "output_type": "stream",
     "text": [
      "getting sentence embedding...\n"
     ]
    }
   ],
   "source": [
    "#to dense\n",
    "title_east_tfidf = title_vectorizer.toarray()\n",
    "title_east_weight = get_tfidf_weight(title_east_tfidf, texts_title_east)\n",
    "title_east_w2v = get_w2v_matrix(texts_title_east)\n",
    "title_east_vec = get_sentence_embedding(title_east_w2v, title_east_weight)"
   ]
  },
  {
   "cell_type": "code",
   "execution_count": 12,
   "metadata": {
    "tags": []
   },
   "outputs": [
    {
     "name": "stderr",
     "output_type": "stream",
     "text": [
      "  0%|          | 0/269 [00:00<?, ?it/s]<ipython-input-9-86b5834f3e10>:11: DeprecationWarning: Call to deprecated `__getitem__` (Method will be removed in 4.0.0, use self.wv.__getitem__() instead).\n",
      "  sentence_w2v.append(model_w2v[word])\n",
      "100%|██████████| 269/269 [00:00<00:00, 28292.28it/s]"
     ]
    },
    {
     "name": "stdout",
     "output_type": "stream",
     "text": [
      "getting tfidf...\n",
      "getting word2vec matrix...\n",
      "getting sentence embedding...\n"
     ]
    },
    {
     "name": "stderr",
     "output_type": "stream",
     "text": [
      "\n"
     ]
    }
   ],
   "source": [
    "title_apple_tfidf = tfidf.transform(texts_title_apple).toarray()\n",
    "title_apple_weight = get_tfidf_weight(title_apple_tfidf, texts_title_apple)\n",
    "title_apple_w2v = get_w2v_matrix(texts_title_apple)\n",
    "title_apple_vec = get_sentence_embedding(title_apple_w2v, title_apple_weight)"
   ]
  },
  {
   "cell_type": "code",
   "execution_count": 13,
   "metadata": {},
   "outputs": [
    {
     "data": {
      "text/plain": [
       "<matplotlib.axes._subplots.AxesSubplot at 0x4a8e02550>"
      ]
     },
     "execution_count": 13,
     "metadata": {},
     "output_type": "execute_result"
    },
    {
     "data": {
      "image/png": "[encoded data removed]",
      "text/plain": [
       "<Figure size 432x288 with 1 Axes>"
      ]
     },
     "metadata": {
      "needs_background": "light"
     },
     "output_type": "display_data"
    }
   ],
   "source": [
    "from sklearn.manifold import TSNE\n",
    "import seaborn as sns\n",
    "from mpl_toolkits.mplot3d import Axes3D\n",
    "import matplotlib.pyplot as plt\n",
    "model = TSNE(n_components=3, random_state=0)\n",
    "X_embedded = model.fit_transform(title_apple_vec)\n",
    "sns.scatterplot(X_embedded[:,0], X_embedded[:,1])"
   ]
  },
  {
   "cell_type": "code",
   "execution_count": 14,
   "metadata": {},
   "outputs": [
    {
     "data": {
      "image/png": "[encoded data removed]",
      "text/plain": [
       "<Figure size 432x288 with 1 Axes>"
      ]
     },
     "metadata": {
      "needs_background": "light"
     },
     "output_type": "display_data"
    }
   ],
   "source": [
    "fig = plt.figure()\n",
    "ax = fig.add_subplot(111, projection='3d')\n",
    "\n",
    "ax.scatter(*zip(*X_embedded))\n",
    "plt.show()"
   ]
  },
  {
   "cell_type": "code",
   "execution_count": 15,
   "metadata": {
    "tags": []
   },
   "outputs": [
    {
     "name": "stdout",
     "output_type": "stream",
     "text": [
      "[['英特尔', '牙膏', '厂', '抛弃', '苹果', '开发'],\n",
      " ['苹果', '多减', '空增'],\n",
      " ['推', '升级', '版本', '发布', '一月', '更新', '四次', '苹果', '踏上', '补', '不归路'],\n",
      " ['苹果', '华为', '阿里', '参加', '第六届', '世界', '互联网', '大会'],\n",
      " ['苹果', '首次', '发布', '安装', '量', '超', '半数', '用户', '更新'],\n",
      " ['销量', '好于', '预期', '服务', '领域', '发力', '苹果', '重返', '全球', '市值', '第一'],\n",
      " ['苹果', '研发', '智能', '戒指', '中国', '穿戴', '设备', '出货量', '分析'],\n",
      " ['雀巢', '苹果', '共振', '阿里', '打假', '联盟', '聚集', '全球', '品牌', '联手', '打假'],\n",
      " ['苹果', '概念股', '稳步', '走高'],\n",
      " ['苹果', '低头', '系列', '代表', '苹果', '妥协'],\n",
      " ['苹果', '月底', '发布', '新', '售价', '超'],\n",
      " ['苹果', '旧款', '升级', '系统', '故障'],\n",
      " ['苹果', '屏幕', '供应商', '预计', '年', '智能手机', '大行其道'],\n",
      " ['分析师', '苹果', '明年', '推出', '四款'],\n",
      " ['苹果', '美国', '官网', '清仓', '元起'],\n",
      " ['苹果', '概念股', '开盘', '快速', '走高'],\n",
      " ['苹果', '印度', '组装', '开售', '售价', '约'],\n",
      " ['降临', '代工厂', '苹果', '生产', '英寸'],\n",
      " ['苹果', '租', '伦敦', '建筑', '平方英尺', '空间', '做', '办公室'],\n",
      " ['苹果', '清仓', '系列', '明年', '发布', '新机', '做'],\n",
      " ['苹果', '困局', '股价', '飙涨', '背后', '转型', '难题'],\n",
      " ['苹果', '缩短', '付款', '期限', '屏幕', '制造商', '改善', '现金流', '状况'],\n",
      " ['三星', '苹果', '手机', '提供', '面板', '数量', '超', '预期'],\n",
      " ['全球', '触控', '龙头', '欧菲光', '嫌弃', '财务', '吃紧', '苹果', '有意', '转单'],\n",
      " ['苹果', '反弹'],\n",
      " ['苹果', '内部资料', '立功', '新款', '发售'],\n",
      " ['外盘', '美股', '三大', '股指', '微幅', '收涨', '苹果', '股价', '创纪录', '新高'],\n",
      " ['分析师', '处理器', '定价', '太低', '不好', '学习', '苹果'],\n",
      " ['苹果', '发布', '新', '测试版', '提高', '稳定性', '修复', '系统漏洞'],\n",
      " ['美国', '三大', '股指', '微幅', '收涨', '苹果', '股价', '创纪录', '新'],\n",
      " ['系列', '版', '开启', '预售', '苹果', '股价', '再破顶', '手机', '产业链', '集体', '走强'],\n",
      " ['台积', '电为', '苹果', '代工', '送样', '成台', '积电', '杀手锏'],\n",
      " ['苹果', '概念股', '午后', '快速', '走高'],\n",
      " ['苹果', '库克', '出柜', '消息', '一点', '后悔'],\n",
      " ['苹果', '联合', '创始人', '沃兹泼', '全自动', '驾驶', '汽车', '有生之年'],\n",
      " ['苹果', '顺手', '奖', '华', '企业', '环保', '榜样'],\n",
      " ['关键部件', '采用', '可回收', '稀土', '制作', '苹果', '未来', '地球', '索取', '材料'],\n",
      " ['苹果', '市值', '重返', '第一', '功臣'],\n",
      " ['外媒', '苹果', '月底', '发布会', '推出', '四款', '新品'],\n",
      " ['获', '项', '专利', '苹果', '自动', '驾驶', '新进展'],\n",
      " ['韩国', '上市', '销量', '疯涨', '三星', '无力', '抵挡', '苹果'],\n",
      " ['大摩', '分析师', '苹果', '流媒体', '业务', '年', '创收', '亿美元'],\n",
      " ['苹果', '让步', '用户', '删除', '历史记录'],\n",
      " ['苹果', '推出', '英寸'],\n",
      " ['苹果', '市场份额', '下滑', '预亏', '百邦', '科技', '上市', '逾', '业绩', '变脸'],\n",
      " ['泄密', '苹果', '发布', '智能', '电池', '壳'],\n",
      " ['华为', '自研', '明年', '第一季', '量产', '苹果', '发布', '全新', '售价'],\n",
      " ['消息', '称', '苹果', '明年', '推出', '三款', '旗舰', '手机'],\n",
      " ['苹果', '推', '支付', '欧盟', '商家', '征询', '细节'],\n",
      " ['苹果', '每股', '收益', '及营收', '超出', '预期'],\n",
      " ['苹果', '明年', '卖', '万部', '手机', '处理器', '基带'],\n",
      " ['苹果', '年', '第四季度', '营收达', '亿美元', '得益于', '服务', '穿戴', '设备'],\n",
      " ['苹果', '季', '业绩', '胜', '预期', '舜宇涨', '逾', '瑞声', '升', '逾'],\n",
      " ['苹果', '成', '制造商', '收入', '亿美元'],\n",
      " ['苹果', '出新', '专利', '包围', '屏幕'],\n",
      " ['轻松', '超过', '微软', '苹果', '市值', '全球', '第一', '这家', '巨无霸', '企业', '终于', '上市'],\n",
      " ['亿美元', '买下', '谷歌', '苹果', '较劲'],\n",
      " ['苹果', '量产', '遇阻', '推迟', '产品', '上市', '时间'],\n",
      " ['苹果', '量产'],\n",
      " ['上市', '苹果', '样品', '受检'],\n",
      " ['苹果', '放下', '身段', '八戒', '身价', '仍增'],\n",
      " ['苹果', '新品', '供不应求', '供应链', '大快朵颐'],\n",
      " ['美国', '用户', '增长', '停滞', '苹果', '低价', '换量'],\n",
      " ['苹果', '供应商', '遭遇', '冰火', '两重天', '供应商', '业绩', '变脸', '穿戴', '设备', '供应商', '增长'],\n",
      " ['苹果', '三星', '合作', '团购', '美国', '德州', '风电场', '提供', '电力'],\n",
      " ['拼', '领', '现金', '被盗', '完微信', '紧急通知', '罪魁祸首', '苹果'],\n",
      " ['苹果', '欧洲', '再发', '亿美元', '绿色', '债券'],\n",
      " ['苹果', '提交', '新', '专利', '未来', '支持', '功能'],\n",
      " ['首超',\n",
      "  '苹果',\n",
      "  '华为',\n",
      "  '三季度',\n",
      "  '拿下',\n",
      "  '这项',\n",
      "  '赛道',\n",
      "  '冠军',\n",
      "  '中国',\n",
      "  '平板',\n",
      "  '电脑',\n",
      "  '市场',\n",
      "  '洗牌'],\n",
      " ['苹果', '信用卡', '指', '歧视', '女性', '男性', '额度', '高', '倍'],\n",
      " ['苹果', '秘密', '研发', '智能', '设备', '头戴', '年', '增强', '现实', '眼镜', '年'],\n",
      " ['苹果', '信用卡', '性别歧视', '遭查'],\n",
      " ['苹果', '终于', '屏下', '指纹', '专利', '最先', '搭载'],\n",
      " ['苹果', '双', '狂', '卖货', '公司', '股价', '已累', '涨', '逾', '亿美元'],\n",
      " ['指', '性别歧视', '苹果', '高盛', '坑'],\n",
      " ['苹果', '年', '推', '头显', '年', '发布', '眼镜'],\n",
      " ['彭博', '苹果', '年', '发布', '双摄'],\n",
      " ['报告', '苹果', '有史以来', '销量', '增长', '产品'],\n",
      " ['彭博', '苹果', '新款', '发布'],\n",
      " ['谷歌', '沃尔玛', '联手', '苹果', '发展', '语音', '购物', '亚马逊', '难'],\n",
      " ['苹果', '发布', '第二个', '测试版', '物理', '密钥', '支持'],\n",
      " ['台湾', '两大', '面板厂', '盈利', '大减', '竟是', '苹果', '抛弃'],\n",
      " ['彭博', '苹果', '最快', '明天', '推出', '英寸'],\n",
      " ['连续', '季度', '录得', '净亏损', '苹果', '认栽'],\n",
      " ['苹果', '拍卖', '慈善', '午餐', '预计', '成交价', '达', '万美元'],\n",
      " ['苹果', '贵', '台式机', '寸', '显示器', '登陆', '发售'],\n",
      " ['效仿', '库克', '苹果', '举办', '慈善', '午餐', '竞拍'],\n",
      " ['寸', '放弃', '读卡器', '接口', '苹果', '永远'],\n",
      " ['苹果', '正式', '发布', '全新', '英寸', '元起'],\n",
      " ['郭', '明', '錤', '苹果', '明年初', '发布', '新款'],\n",
      " ['苹果', '发布', '首个', '固件', '更新'],\n",
      " ['苹果', '明年', '推', '有望', '主导', '全球', '智能手机'],\n",
      " ['苹果', '申请', '新', '专利', '未来', '读懂', '表情'],\n",
      " ['取代', '苹果', '已入局', '下一代', '手机'],\n",
      " ['苹果', '首席', '财务', '官为', '慈善', '拍卖', '午餐', '预估', '价值', '美元'],\n",
      " ['苹果', '关闭', '验证', '通道', '杀', '后台', '再见'],\n",
      " ['苹果', '德国', '杠', '德国', '强迫', '苹果', '开放', '苹果', '保障', '支付'],\n",
      " ['华为', '小米', '今日', '头条', '上火', '超', '苹果', '发布会'],\n",
      " ['苹果', '申请', '新', '专利', '或能', '分析', '客户', '表情', '解读', '情绪'],\n",
      " ['苹果', '明年', '发', '手机', '分析师', '看好', '市场', '大赢家'],\n",
      " ['三位', '高管', '离开', '苹果', '成立', '芯片', '公司', '意欲何为'],\n",
      " ['苹果', '注册', '超级', '视网膜', '屏', '商标', '用于', '代'],\n",
      " ['美媒', '苹果', '拟', '申请专利', '面部', '分析'],\n",
      " ['已成', '手机', '标配', '苹果', '支持', '私心', '难掩'],\n",
      " ['美国', '利', '商标局', '公开', '苹果', '申请', '屏幕', '时间', '专利'],\n",
      " ['外媒', '苹果', '中国', '市场', '出货', '万部'],\n",
      " ['分析师', '看好', '苹果', '后来者居上'],\n",
      " ['德国', '法律', '强制', '苹果', '开放', '芯片'],\n",
      " ['苹果', '拒绝', '第三方', '开放', '称其会', '破坏', '用户', '体验'],\n",
      " ['真香', '机', '苹果', '中国', '卖出', '万部'],\n",
      " ['苹果', '预计', '年', '上半年', '推', '采用', '剪刀', '式', '键盘', '英寸'],\n",
      " ['苹果', '统货', '质量'],\n",
      " ['血本', '苹果', '承认', '花费', '数十亿美元', '改进', '地图', '服务'],\n",
      " ['苹果', '地面', '货', '少量', '交易'],\n",
      " ['苹果', '强硬', '回应', '反垄断', '质询', '打算', '开放', '默认', '替换'],\n",
      " ['做', '手机', '苹果', '水果', '汽车', '帝国'],\n",
      " ['苹果', '发布', '最新', '测试版', '修复', '提升', '稳定性'],\n",
      " ['产区', '现货', '以质', '论价', '苹果', '合约', '大幅', '上涨'],\n",
      " ['苹果', '开发', '后续', '媒体'],\n",
      " ['苹果', '年', '公司', '维修', '业务', '亏', '钱'],\n",
      " ['苹果', '中国', '上架', '系列', '电池', '保护', '壳', '新增', '拍摄', '按键'],\n",
      " ['苹果', '年', '赔钱', '用户', '修理'],\n",
      " ['美媒', '苹果', '德克萨斯州', '兴建', '新', '园区'],\n",
      " ['降噪', '款超', '预期', '苹果', '出货量', '加倍', '副'],\n",
      " ['小米', '欧洲', '同比', '增长', '明年', '高端', '旗舰', '苹果', '正面'],\n",
      " ['超', '苹果', '华为', '平板', '销量', '登顶', '中国', '第一', '出货', '万台'],\n",
      " ['曝光', '苹果', '最早', '明年'],\n",
      " ['苹果', '合作', '凉凉', '强势', '逆袭'],\n",
      " ['苹果', '加紧', '生产', '出货量', '要超'],\n",
      " ['苹果', '决裂', '支持'],\n",
      " ['苹果', '明年', '系列', '配备', '内存', '生产'],\n",
      " ['俄方', '预装', '本土', '软件', '苹果', '被迫', '停售'],\n",
      " ['瑞声', '升', '逾', '消息', '指', '苹果', '年', '总产量', '达', '亿部'],\n",
      " ['专利', '流氓', '狮子', '开口', '苹果', '出面', '帮忙', '解围'],\n",
      " ['分析师', '年', '苹果', '升级', '内存'],\n",
      " ['公开', '多家', '企业', '评级', '阿里巴巴', '级', '苹果', '级'],\n",
      " ['苹果', '违反', '制裁', '法', '美国', '达成', '和解'],\n",
      " ['引爆', '无线耳机', '题材', '券商', '预期', '苹果', '产业链', '新一轮', '周期', '开启'],\n",
      " ['苹果', '年', '换用', '高通', '基带', '欲', '夺回', '全球', '手机', '制造商', '宝座'],\n",
      " ['美媒', '赛尔', '康', '印度', '工厂', '苹果', '生产', '零部件'],\n",
      " ['苹果', '遭', '美国', '反垄断', '调查', '位置', '隐私', '功能', '搞', '双标'],\n",
      " ['苹果', '年', '采用', '高通', '骁龙', '基带', '改善', '信号'],\n",
      " ['外媒', '苹果', '想', '发展', '华为', '学习'],\n",
      " ['苹果', '新', '专利', '暗示', '苹果', '汽车', '钥匙', '系统', '核心'],\n",
      " ['小屏', '死', '苹果', '印度', '生产'],\n",
      " ['苹果', '悄然', '更新', '官网', '新', '功能', '兑现'],\n",
      " ['产业链', '称', '苹果', '提高', '产能', '销量', '太', '出色'],\n",
      " ['款', '外媒称', '苹果', '明年', '推出', '超过', '款', '新'],\n",
      " ['搭', '电商', '顺风', '车', '宜川', '苹果', '闯', '天下'],\n",
      " ['苹果', '获新', '专利', '车载', '摄像头', '解决', '汽车', '柱', '盲区'],\n",
      " ['供应链', '消息', '苹果', '明年', '新', '尺寸', '微调', '换', '高通', '基带'],\n",
      " ['乔纳森', '艾维', '正式', '离开', '苹果'],\n",
      " ['苹果', '代', '手机', '尺寸', '更大', '舜宇涨', '瑞声', '升', '逾'],\n",
      " ['系列', '细节', '曝光', '苹果', '调整', '屏幕', '尺寸'],\n",
      " ['移除', '高管', '名单', '首席', '设计师', '正式', '离开', '苹果'],\n",
      " ['调查', '美国', '果粉', '存', '认知', '困惑', '苹果', '领导者'],\n",
      " ['苹果', '隐私', '新', '政策', '搞', '双标', '美', '反垄断', '机构', '疑其', '竞争对手'],\n",
      " ['苹果', '赶上', '假日', '潮', '深耕', '果粉', '心'],\n",
      " ['需求', '强劲', '苹果', '果断', '产量', '提高', '一倍'],\n",
      " ['苹果', '市占率', '第四季度', '超越', '华为'],\n",
      " ['强者', '恒强', '苹果', '股价', '频', '创新', '高'],\n",
      " ['正式', '分道扬镳', '苹果', '首席', '设计师', '高管', '页面', '除名'],\n",
      " ['苹果', '新', '专利', '新型', '后视镜', '道路', '图像', '投射', '侧', '窗', '挡风玻璃'],\n",
      " ['控诉', '高通', '世界级', '创新', '基带', '被迫', '卖', '苹果'],\n",
      " ['英特尔', '芯片', '业务', '卖', '苹果', '是因为', '高通'],\n",
      " ['苹果', '新', '附赠'],\n",
      " ['赛腾', '股份', '无线耳机', '设备', '先行', '紧抓', '苹果', '迎', '年'],\n",
      " ['苹果', '获新', '专利', '车载', '摄像头', '解决', '柱', '盲区'],\n",
      " ['苹果', '拟', '年', '推出', '带有', '功能'],\n",
      " ['系列', '助力', '苹果', '重返', '全球', '第一'],\n",
      " ['系列', '立功', '年', '第四季度', '苹果', '重返', '全球'],\n",
      " ['产业链', '看好', '苹果', '系列', '用户', '踊跃', '换机'],\n",
      " ['苹果', '主力', '合约', '短期', '区间', '交易'],\n",
      " ['苹果', '公布', '年', '年度', '游戏', '排行榜', '马里奥', '赛车', '拿下', '第一'],\n",
      " ['苹果', '一场', '特别', '活动', '失望'],\n",
      " ['苹果', '关闭', '验证', '通道', '官方', '降级'],\n",
      " ['苹果', '推', '音乐奖', '奖杯', '亮'],\n",
      " ['分析师', '苹果', '每半年', '发布'],\n",
      " ['苹果', '一根', '内存条', '卖', '多元', '外媒', '交', '智商', '税'],\n",
      " ['苹果', '面容', '识别', '功能'],\n",
      " ['晚报', '苹果', '看好', '三星', '渲染', '图', '曝'],\n",
      " ['苹果', '山东', '小果', '走货', '居多'],\n",
      " ['苹果', '冷库', '走货', '零星'],\n",
      " ['苹果', '明年', '发布', '四款', '销量', '达', '亿部'],\n",
      " ['苹果', '高通', '新型', '支持', '手指', '解锁', '指纹', '传感器'],\n",
      " ['推出', '高通', '总裁', '透露', '苹果', '重建', '合作', '关系', '首要', '目标'],\n",
      " ['苹果', '拿下', '英特尔', '手机', '基带', '业务', '产业链', '迎', '重磅', '利好'],\n",
      " ['苹果', '提交', '新', '专利', '推出', '版', '做'],\n",
      " ['高通', '总裁', '苹果', '合作', '首要任务', '推出'],\n",
      " ['苹果', '谷歌', '巨头', '年', '避税', '千亿美元', '库克', '纳税', '超', '千亿'],\n",
      " ['美媒', '苹果', '收购', '英特尔', '大部分', '手机', '基带', '业务'],\n",
      " ['苹果', '确认', '新款', '寸', '意外', '关机', '故障'],\n",
      " ['苹果', '库存', '货', '价格', '偏高'],\n",
      " ['苹果', '明年', '推', '款', '详细', '参数', '曝光', '售价', '元起'],\n",
      " ['苹果', '放大', '招', '推出', '低价', '版', '概念股', '抢', '筹'],\n",
      " ['不到', '块', '明年', '来袭', '苹果', '产业链', '遇大', '变革'],\n",
      " ['苹果', '澄清', '隐私', '罪魁祸首', '超宽带', '技术'],\n",
      " ['郭', '明', '錤', '苹果', '明年', '发布', '款', '新', '英寸', '外形', '重回'],\n",
      " ['苹果', '侧面', '指纹', '年', '采用', '新', '设计'],\n",
      " ['郭', '明', '錤', '苹果', '款', '去掉', '接口'],\n",
      " ['苹果', '保护环境', '新', '做法', '购买', '无碳', '铝', '用于', '制造'],\n",
      " ['抢钱', '苹果', '悄然', '上架', '新品', '规格', '售价'],\n",
      " ['苹果', '明年', '推', '款', '款', '支持'],\n",
      " ['款', '集体', '曝光', '苹果', '股价', '重回', '巅峰', '破', '万亿美元'],\n",
      " ['对决',\n",
      "  '华为',\n",
      "  '爆料',\n",
      "  '苹果',\n",
      "  '明年',\n",
      "  '放大',\n",
      "  '招',\n",
      "  '股价',\n",
      "  '飙',\n",
      "  '新高',\n",
      "  '股',\n",
      "  '概念股',\n",
      "  '闻风',\n",
      "  '先动'],\n",
      " ['外媒称', '苹果', '明年', '发布', '新机', '售价', '不到'],\n",
      " ['苹果', '收盘价', '创', '历史', '新高', '总', '市值', '达', '亿美元'],\n",
      " ['苹果', '明年', '发布', '新机', '小屏', '入门', '机', '禁售', '两千多元'],\n",
      " ['苹果', '通知', '新', '显示器', '正式', '开售'],\n",
      " ['美股', '飙升', '苹果', '股价', '爆发', '股', '闻风', '先动', '大涨', '刚刚开始'],\n",
      " ['苹果', '股价', '连涨', '市值', '超过', '万亿美元'],\n",
      " ['苹果', '发送', '邀请函', '首次', '市民', '开放'],\n",
      " ['正式版', '苹果', '测试', '封堵'],\n",
      " ['苹果', '新', '正式', '开售', '价格', '美元'],\n",
      " ['时隔', '年', '苹果', '重返', '探讨', '数据', '隐私'],\n",
      " ['分析师', '苹果', '年', '发布', '款', '机型'],\n",
      " ['系列', '首席', '架构师', '单飞', '创业', '苹果', '其告', '法庭'],\n",
      " ['苹果', '削减', '高端', '产量'],\n",
      " ['苹果', '合约', '短期', '暂且', '日内', '交易'],\n",
      " ['苹果', '确认', '参加', '明年', '探讨', '消费者', '隐私'],\n",
      " ['苹果', '智能', '防', '跟踪', '功能', '影响', '广告商', '收入', '广告', '价格', '降'],\n",
      " ['苹果', '股价', '已涨', '明年', '延续', '涨势'],\n",
      " ['苹果', '确认', '隐私', '圆桌会议', '外媒称', '不太可能', '拥有', '展位'],\n",
      " ['苹果', '占', '全球', '高端', '手机', '市场', '一半', '份额', '三星', '华为', '紧随其后'],\n",
      " ['苹果', '占', '全球', '高端', '手机', '市场', '一半', '份额', '明年', '推', '款'],\n",
      " ['报告', '称', '苹果', '押宝', '明年', '推出', '款', '新机'],\n",
      " ['苹果', '明年', '重返', '大展', '年', '首次', '回归'],\n",
      " ['分析师', '苹果', '系列', '产量', '削减'],\n",
      " ['苹果', '状告', '系列', '处理器', '核心', '工程师', '打造', '芯片'],\n",
      " ['苹果', '股价', '盘后', '一度', '跳水', '跌幅'],\n",
      " ['苹果', '低开', '高', '走'],\n",
      " ['苹果', '爆料', '一哥', '放话', '明年', '换', '金属外壳', '价格', '涨太多'],\n",
      " ['苹果', '多头', '减持', '幅度', '较大'],\n",
      " ['市值', '超越', '苹果', '微软', '全球', '赚钱', '公司', '上市', '首日', '暴涨', '万亿', '有望', '中国'],\n",
      " ['苹果', '收购', '英国公司', '用于', '增强', '拍照', '功能'],\n",
      " ['苹果', '收购', '手机', '摄影', '初创', '公司'],\n",
      " ['苹果', '收购', '新锐', '公司', '提升', '拍照', '细节'],\n",
      " ['美股', '收涨', '标普', '周线', '连阳', '苹果', '股价', '再创新高'],\n",
      " ['苹果', '谷歌', '巨头', '遭', '集体', '诉讼', '供应商', '剥削', '童工', '开采', '钴'],\n",
      " ['美国', '大型', '科技股', '集体', '收涨', '苹果', '微软', '股价', '创新', '高'],\n",
      " ['苹果', '发布', '首个', '测试版', '修复', '屏幕', '时间', '漏洞'],\n",
      " ['苹果', '特斯拉', '巨头', '非法', '雇佣', '童工', '开采', '钴', '矿', '用于', '锂电池'],\n",
      " ['外盘', '连涨', '美股', '三大', '股指', '续创', '收盘', '新高', '苹果', '首次', '收于', '美元', '上方'],\n",
      " ['报告', '称', '苹果', '赚', '走', '智能手机', '行业', '总', '利润'],\n",
      " ['苹果', '收购', '博通', '射频', '无线', '芯片', '业务'],\n",
      " ['每经', '点', '苹果', '领跑', '全球', '手机', '利润', '榜单', '安卓', '军团', '占', '总额', '三分之一'],\n",
      " ['碾压', '对手', '年', '第三季度', '苹果', '获取', '全球', '手机', '市场', '总', '利润'],\n",
      " ['苹果', '引入', '体育赛事', '版权', '全球', '票房', '收入', '创新', '高'],\n",
      " ['苹果', '光学', '屏下', '指纹', '专利', '英寸', '苹果'],\n",
      " ['苹果', '秘密', '开发', '卫星', '无线', '技术', '发送', '网络连接', '数据'],\n",
      " ['苹果', '秘密', '团队', '研发', '卫星', '技术', '用于'],\n",
      " ['全球', '智能手机', '利润', '报告', '出炉', '苹果', '独占鳌头'],\n",
      " ['华为', '年', '出货量', '达', '亿部', '超', '苹果', '排名', '直线'],\n",
      " ['苹果', '屏下', '专利'],\n",
      " ['外盘', '美股', '集体', '收高', '纳指', '连涨', '苹果', '特斯拉', '齐创', '收盘', '纪录', '新高'],\n",
      " ['美', '大型', '科技股', '表现', '各异', '苹果', '特斯拉', '股价', '再创新高'],\n",
      " ['分析师', '明年', '苹果', '创收', '亿美元'],\n",
      " ['传博通', '亿美元', '甩', '无线', '芯片', '业务', '意中人', '苹果', '联发科'],\n",
      " ['苹果', '市值', '万亿美元', '推', '升至', '万亿'],\n",
      " ['新款', '车载', '安卓', '上市', '谷歌', '打破', '苹果', '主导地位'],\n",
      " ['苹果', '股价', '上涨', '超', '分析', '预测', '明年', '上涨', '空间'],\n",
      " ['斥资', '亿', '联发科', '苹果', '联手', '改写', '格局'],\n",
      " ['全球', '畅销', '款', '手机', '背后', '苹果', '赚', '走', '行业', '大部分', '利润'],\n",
      " ['苹果', '下一代', '处理器', '台积', '电', '代工', '采用', '纳米', '制程'],\n",
      " ['台媒', '台积', '电', '独家', '代工', '苹果', '处理器', '采用', '工艺'],\n",
      " ['美国', '大型', '科技股', '收跌', '苹果', '股价', '突破', '美元'],\n",
      " ['苹果', '玩游戏', '售价', '感受'],\n",
      " ['年', '苹果', '增长', '全靠', '副耳机'],\n",
      " ['苹果', '股价', '突破', '美元', '关口', '皆', '智能', '设备']]\n"
     ]
    }
   ],
   "source": [
    "from pprint import pprint\n",
    "pprint(texts_title_apple)"
   ]
  },
  {
   "cell_type": "code",
   "execution_count": 30,
   "metadata": {},
   "outputs": [],
   "source": [
    "import pickle\n",
    "with open('title_apple_vec.np', 'wb') as f:\n",
    "    pickle.dump(title_apple_vec, f)"
   ]
  },
  {
   "cell_type": "code",
   "execution_count": 31,
   "metadata": {},
   "outputs": [],
   "source": [
    "def company2vec(name):\n",
    "    doc_title = \"./data/company/title_\" + name + \".txt\"\n",
    "    corp_title = preprocess_data(doc_title, stopwords)\n",
    "    texts_title = cut_low_freq_word(corp_title, 0)\n",
    "    title_tfidf = tfidf.transform(texts_title).toarray()\n",
    "    title_weight = get_tfidf_weight(title_tfidf, texts_title)\n",
    "    title_w2v = get_w2v_matrix(texts_title)\n",
    "    title_vec = get_sentence_embedding(title_w2v, title_weight)\n",
    "    with open('title_'+ name +'_vec.np', 'wb') as f:\n",
    "        pickle.dump(title_vec, f)   "
   ]
  },
  {
   "cell_type": "code",
   "execution_count": 36,
   "metadata": {},
   "outputs": [
    {
     "name": "stderr",
     "output_type": "stream",
     "text": [
      "  0%|          | 0/28 [00:00<?, ?it/s]<ipython-input-9-86b5834f3e10>:11: DeprecationWarning: Call to deprecated `__getitem__` (Method will be removed in 4.0.0, use self.wv.__getitem__() instead).\n",
      "  sentence_w2v.append(model_w2v[word])\n",
      "100%|██████████| 28/28 [00:00<00:00, 10339.89it/s]"
     ]
    },
    {
     "name": "stdout",
     "output_type": "stream",
     "text": [
      "getting tfidf...\n",
      "getting word2vec matrix...\n",
      "getting sentence embedding...\n"
     ]
    },
    {
     "name": "stderr",
     "output_type": "stream",
     "text": [
      "\n"
     ]
    }
   ],
   "source": [
    "company2vec(\"zzd\")"
   ]
  },
  {
   "cell_type": "code",
   "execution_count": null,
   "metadata": {},
   "outputs": [],
   "source": []
  }
 ],
 "metadata": {
  "kernelspec": {
   "display_name": "Python [conda env:pDL] *",
   "language": "python",
   "name": "conda-env-pDL-py"
  },
  "language_info": {
   "codemirror_mode": {
    "name": "ipython",
    "version": 3
   },
   "file_extension": ".py",
   "mimetype": "text/x-python",
   "name": "python",
   "nbconvert_exporter": "python",
   "pygments_lexer": "ipython3",
   "version": "3.8.1"
  }
 },
 "nbformat": 4,
 "nbformat_minor": 4
}
